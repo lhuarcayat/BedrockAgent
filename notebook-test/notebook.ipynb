{
 "cells": [
  {
   "cell_type": "markdown",
   "metadata": {},
   "source": [
    "# CECRL Prompt Testing Framework\n",
    "\n",
    "This notebook tests v2.0.0 vs v2.1.0 prompt changes for CECRL document extraction.\n",
    "\n",
    "## Test Cases:\n",
    "1. **US Passport (Venezuela birth)**: Fix nationality confusion \n",
    "2. **Colombian Cédula**: Fix firstName/lastName swapping\n",
    "\n",
    "## Usage:\n",
    "- **Change S3 paths** in first cell if needed\n",
    "- **Run cells sequentially** or individual tests\n",
    "- **Check outputs/** directory for detailed results"
   ]
  },
  {
   "cell_type": "code",
   "execution_count": null,
   "metadata": {},
   "outputs": [],
   "source": "# =============================================================================\n# SETUP AND CONFIGURATION\n# =============================================================================\n\n# Import all testing modules\nfrom config import *\nfrom engine import *\nfrom run import *\n\nprint(\"✅ All modules loaded\")\nprint(f\"📋 Configured documents: {list(TEST_DOCUMENTS.keys())}\")\nprint(f\"🎯 Model: {BEDROCK_MODEL}\")"
  },
  {
   "cell_type": "markdown",
   "metadata": {},
   "source": [
    "## 📋 View Test Documents\n",
    "\n",
    "See what documents are configured for testing:"
   ]
  },
  {
   "cell_type": "code",
   "execution_count": 3,
   "metadata": {},
   "outputs": [
    {
     "name": "stdout",
     "output_type": "stream",
     "text": [
      "📋 Configured Test Documents:\n",
      "----------------------------------------\n",
      "🔑 us_passport_venezuela\n",
      "   Name: US Passport - Venezuela Birth\n",
      "   Path: s3://par-servicios-poc-qa-filling-desk/par-servicios-poc/CECRL/984174004/_2022-01-06.pdf\n",
      "   Expected fixes: {'nationality': 'Venezuela'}\n",
      "\n",
      "🔑 colombian_cedula\n",
      "   Name: Colombian Cédula - Name Swap\n",
      "   Path: s3://par-servicios-poc-qa-filling-desk/par-servicios-poc/CECRL/900397317/19200964_2020-02-29.pdf\n",
      "   Expected fixes: {'firstName': 'Luis Ignacio', 'lastName': 'Hernández Díaz'}\n",
      "\n"
     ]
    }
   ],
   "source": [
    "# Show all configured test documents\n",
    "list_documents()"
   ]
  },
  {
   "cell_type": "markdown",
   "metadata": {},
   "source": [
    "## 🔧 Setup AWS Clients\n",
    "\n",
    "Initialize Bedrock and S3 clients:"
   ]
  },
  {
   "cell_type": "code",
   "execution_count": null,
   "metadata": {},
   "outputs": [],
   "source": [
    "# Setup AWS clients\n",
    "bedrock_client, s3_client = setup_aws_clients()\n",
    "print(\"✅ AWS clients ready\")"
   ]
  },
  {
   "cell_type": "markdown",
   "metadata": {},
   "source": [
    "## 🧪 Quick Test - Single Document\n",
    "\n",
    "Test the first document quickly:"
   ]
  },
  {
   "cell_type": "code",
   "execution_count": null,
   "metadata": {},
   "outputs": [],
   "source": [
    "# Quick test on first document\n",
    "quick_test()"
   ]
  },
  {
   "cell_type": "markdown",
   "metadata": {},
   "source": [
    "## 🎯 Test Specific Document\n",
    "\n",
    "Test a specific document by key:"
   ]
  },
  {
   "cell_type": "code",
   "execution_count": null,
   "metadata": {},
   "outputs": [],
   "source": [
    "# Test US passport document\n",
    "run_single_document_test(\"us_passport_venezuela\")"
   ]
  },
  {
   "cell_type": "code",
   "execution_count": null,
   "metadata": {},
   "outputs": [],
   "source": [
    "# Test Colombian cédula document\n",
    "run_single_document_test(\"colombian_cedula\")"
   ]
  },
  {
   "cell_type": "markdown",
   "metadata": {},
   "source": [
    "## 🚀 Run Complete Test Suite\n",
    "\n",
    "Test all documents with both prompt versions:"
   ]
  },
  {
   "cell_type": "code",
   "execution_count": null,
   "metadata": {},
   "outputs": [],
   "source": [
    "# Run all tests\n",
    "run_all_tests()"
   ]
  },
  {
   "cell_type": "markdown",
   "metadata": {},
   "source": [
    "## 📊 View Latest Results\n",
    "\n",
    "Load and display the latest comparison report:"
   ]
  },
  {
   "cell_type": "code",
   "execution_count": null,
   "metadata": {},
   "outputs": [],
   "source": [
    "# Load latest comparison report\n",
    "report_path = COMPARISON_DIR / \"comparison_report.json\"\n",
    "if report_path.exists():\n",
    "    with open(report_path) as f:\n",
    "        report = json.load(f)\n",
    "\n",
    "    print_summary(report)\n",
    "else:\n",
    "    print(\"❌ No comparison report found. Run tests first.\")"
   ]
  },
  {
   "cell_type": "markdown",
   "metadata": {},
   "source": [
    "## 🔍 Detailed Field Analysis\n",
    "\n",
    "Examine specific field changes in detail:"
   ]
  },
  {
   "cell_type": "code",
   "execution_count": null,
   "metadata": {},
   "outputs": [],
   "source": [
    "# Detailed analysis of field changes\n",
    "def show_detailed_changes(document_key: str):\n",
    "    \"\"\"Show detailed field changes for a specific document.\"\"\"\n",
    "    report_path = COMPARISON_DIR / \"comparison_report.json\"\n",
    "    if not report_path.exists():\n",
    "        print(\"❌ No comparison report found. Run tests first.\")\n",
    "        return\n",
    "\n",
    "    with open(report_path) as f:\n",
    "        report = json.load(f)\n",
    "\n",
    "    if document_key not in report[\"document_comparisons\"]:\n",
    "        print(f\"❌ Document '{document_key}' not found in report\")\n",
    "        return\n",
    "\n",
    "    comparison = report[\"document_comparisons\"][document_key]\n",
    "\n",
    "    print(f\"\\n🔍 Detailed Analysis: {comparison['document_name']}\")\n",
    "    print(\"=\"*50)\n",
    "\n",
    "    print(f\"📄 Description: {comparison['description']}\")\n",
    "    print(f\"🎯 Expected fixes: {comparison['expected_fixes']}\")\n",
    "\n",
    "    print(\"\\n📊 Field-by-Field Comparison:\")\n",
    "    print(\"-\"*30)\n",
    "\n",
    "    for field, change_data in comparison[\"field_changes\"].items():\n",
    "        if change_data.get(\"changed\", False):\n",
    "            print(f\"🔄 {field}:\")\n",
    "            print(f\"   v2.0.0: '{change_data['old_value']}'\")\n",
    "            print(f\"   v2.1.0: '{change_data['new_value']}'\")\n",
    "            print()\n",
    "        else:\n",
    "            print(f\"✅ {field}: '{change_data['value']}' (unchanged)\")\n",
    "\n",
    "# Example usage:\n",
    "show_detailed_changes(\"us_passport_venezuela\")"
   ]
  },
  {
   "cell_type": "markdown",
   "metadata": {},
   "source": "## 📁 File Outputs\n\nAll test results are saved to:\n\n- `outputs/batch_results.json` - Raw test results\n- `outputs/comparison/comparison_report.json` - Formatted comparison report  \n- `outputs/before/` - v2.0.0 results by document\n- `outputs/after/` - v2.1.0 results by document\n- `outputs/test_log.txt` - Execution logs\n\n## 🔧 Adding New Test Documents\n\nTo test additional documents, modify `TEST_DOCUMENTS` in `config.py`:\n\n```python\nTEST_DOCUMENTS[\"new_document\"] = {\n    \"name\": \"Description\",\n    \"description\": \"What should be fixed\",\n    \"s3_path\": \"s3://bucket/path/file.pdf\", \n    \"expected_fixes\": {\"field\": \"expected_value\"}\n}\n```"
  }
 ],
 "metadata": {
  "kernelspec": {
   "display_name": "Python 3",
   "language": "python",
   "name": "python3"
  },
  "language_info": {
   "codemirror_mode": {
    "name": "ipython",
    "version": 3
   },
   "file_extension": ".py",
   "mimetype": "text/x-python",
   "name": "python",
   "nbconvert_exporter": "python",
   "pygments_lexer": "ipython3",
   "version": "3.12.9"
  }
 },
 "nbformat": 4,
 "nbformat_minor": 4
}