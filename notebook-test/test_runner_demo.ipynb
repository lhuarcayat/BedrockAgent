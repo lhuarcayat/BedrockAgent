{
 "cells": [
  {
   "cell_type": "markdown",
   "metadata": {},
   "source": [
    "# Document Extraction Testing Framework Demo\n",
    "\n",
    "This notebook demonstrates the new YAML-based testing framework that works with CECRL documents."
   ]
  },
  {
   "cell_type": "code",
   "execution_count": null,
   "metadata": {},
   "outputs": [],
   "source": [
    "# Cell 1: Import and initialize\n",
    "import sys\n",
    "sys.path.append('src')\n",
    "\n",
    "from test_manager import TestManager\n",
    "import logging\n",
    "\n",
    "# Setup logging\n",
    "logging.basicConfig(level=logging.INFO)\n",
    "\n",
    "# Initialize test manager - everything loads from YAML\n",
    "tm = TestManager(\"config/test_config.yaml\")\n",
    "print(\"✅ Test Manager initialized with YAML configuration\")"
   ]
  },
  {
   "cell_type": "code",
   "execution_count": null,
   "metadata": {},
   "outputs": [],
   "source": [
    "# Cell 2: Show execution plan\n",
    "print(\"📋 Current Execution Plan:\")\n",
    "tm.show_execution_plan()"
   ]
  },
  {
   "cell_type": "code",
   "execution_count": null,
   "metadata": {},
   "outputs": [],
   "source": [
    "# Cell 3: Run field accuracy test (only enabled test)\n",
    "print(\"🧪 Running Field Accuracy Test...\")\n",
    "results = tm.run_test_case(\"field_accuracy_test\")\n",
    "tm.show_results_summary(results)"
   ]
  },
  {
   "cell_type": "code",
   "execution_count": null,
   "metadata": {},
   "outputs": [],
   "source": [
    "# Cell 4: Run all enabled tests\n",
    "print(\"🚀 Running All Enabled Tests...\")\n",
    "all_results = tm.run_all_enabled()\n",
    "tm.show_results_summary(all_results)"
   ]
  },
  {
   "cell_type": "code",
   "execution_count": null,
   "metadata": {},
   "outputs": [],
   "source": [
    "# Cell 5: Check configuration status\n",
    "enabled_tests = tm.get_enabled_tests()\n",
    "print(\"📊 Enabled Test Summary:\")\n",
    "for test_case, documents in enabled_tests.items():\n",
    "    print(f\"  {test_case}: {len(documents)} documents\")\n",
    "    for doc in documents:\n",
    "        print(f\"    - {doc}\")"
   ]
  },
  {
   "cell_type": "markdown",
   "metadata": {},
   "source": [
    "## Configuration Changes\n",
    "\n",
    "To test different scenarios, modify `config/test_config.yaml`:\n",
    "\n",
    "### Enable/Disable Document Types:\n",
    "```yaml\n",
    "settings:\n",
    "  CECRL: false  # Skip all CECRL documents\n",
    "  CERL: true    # Enable CERL documents (when available)\n",
    "```\n",
    "\n",
    "### Enable/Disable Test Categories:\n",
    "```yaml\n",
    "categories:\n",
    "  field_accuracy:\n",
    "    enabled: false  # Skip all field accuracy tests\n",
    "```\n",
    "\n",
    "### Test Different Prompt Versions:\n",
    "```yaml\n",
    "test_cases:\n",
    "  field_accuracy_test:\n",
    "    prompts_to_test: [\"v2.2.1\", \"v2.3.0\"]  # Compare specific versions\n",
    "```\n",
    "\n",
    "### Enable/Disable Specific Documents:\n",
    "```yaml\n",
    "documents:\n",
    "  us_passport_venezuela:\n",
    "    enabled: false  # Skip this document\n",
    "```\n",
    "\n",
    "**No notebook code changes needed!** Everything is controlled by YAML configuration."
   ]
  }
 ],
 "metadata": {
  "kernelspec": {
   "display_name": "Python 3",
   "language": "python",
   "name": "python3"
  },
  "language_info": {
   "codemirror_mode": {
    "name": "ipython",
    "version": 3
   },
   "file_extension": ".py",
   "mimetype": "text/x-python",
   "name": "python",
   "nbconvert_exporter": "python",
   "pygments_lexer": "ipython3",
   "version": "3.8.5"
  }
 },
 "nbformat": 4,
 "nbformat_minor": 4
}