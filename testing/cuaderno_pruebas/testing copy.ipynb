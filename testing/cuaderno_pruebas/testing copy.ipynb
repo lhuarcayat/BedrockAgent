{
 "cells": [
  {
   "cell_type": "code",
   "execution_count": null,
   "id": "689b721a",
   "metadata": {},
   "outputs": [],
   "source": [
    "import boto3, json\n",
    "from botocore.config import Config"
   ]
  },
  {
   "cell_type": "code",
   "execution_count": 3,
   "id": "09891717",
   "metadata": {},
   "outputs": [],
   "source": [
    "\n",
    "session = boto3.Session(profile_name=\"par_servicios\")\n",
    "client = session.client(\"bedrock-runtime\",region_name='us-east-2')"
   ]
  },
  {
   "cell_type": "code",
   "execution_count": 4,
   "id": "9f1ed075",
   "metadata": {},
   "outputs": [],
   "source": [
    "def setup_bedrock_client(region='us-east-2'):\n",
    "    \"\"\"Setup Bedrock client with retry configuration\"\"\"\n",
    "    config = Config(\n",
    "        region_name=region,\n",
    "        retries=dict(max_attempts=1000)\n",
    "    )\n",
    "    \n",
    "    session = boto3.Session(profile_name=\"par_servicios\")\n",
    "    client = session.client(\n",
    "        service_name='bedrock-runtime',\n",
    "        config=config\n",
    "    )\n",
    "    \n",
    "    return client\n",
    "\n",
    "# Initialize the client\n",
    "bedrock_client = setup_bedrock_client()"
   ]
  },
  {
   "cell_type": "code",
   "execution_count": 85,
   "id": "5bb4913a",
   "metadata": {},
   "outputs": [],
   "source": [
    "import json\n",
    "import boto3\n",
    "import base64\n",
    "\n",
    "# Read and encode the PDF\n",
    "with open(\"prueba (1).pdf\", \"rb\") as pdf_file:\n",
    "    encoded_pdf = base64.b64encode(pdf_file.read()).decode(\"utf-8\")"
   ]
  },
  {
   "cell_type": "code",
   "execution_count": 86,
   "id": "c7498a08",
   "metadata": {},
   "outputs": [],
   "source": [
    "with open(\"prueba.txt\", \"r\", encoding=\"utf-8\") as file:\n",
    "    contenido = file.read()"
   ]
  },
  {
   "cell_type": "code",
   "execution_count": 87,
   "id": "0ef8c54b",
   "metadata": {},
   "outputs": [],
   "source": [
    "request_body = {\n",
    "    \"anthropic_version\": \"bedrock-2023-05-31\",\n",
    "    \"messages\": [\n",
    "        {\n",
    "            \"role\": \"user\",\n",
    "            \"content\": [\n",
    "                {\n",
    "                    \"type\": \"text\",\n",
    "                    \"text\": contenido,\n",
    "                    \"cache_control\": {\"type\": \"ephemeral\"} \n",
    "                },\n",
    "                {\n",
    "                    \"type\": \"document\",\n",
    "                    \"source\": {\n",
    "                        \"type\": \"base64\",\n",
    "                        \"media_type\": \"application/pdf\",\n",
    "                        \"data\": encoded_pdf\n",
    "                    },\n",
    "                    \"title\": \"ACC Report\",\n",
    "                    \"citations\": {\"enabled\": True}\n",
    "                    #\"cache_control\": {\"type\": \"ephemeral\"} \n",
    "                     # Enable prompt caching!\n",
    "                }\n",
    "            ]\n",
    "        }\n",
    "    ],\n",
    "    \"max_tokens\": 500\n",
    "}"
   ]
  },
  {
   "cell_type": "code",
   "execution_count": 88,
   "id": "c53e9d74",
   "metadata": {},
   "outputs": [],
   "source": [
    "response = bedrock_client.invoke_model(\n",
    "    modelId=\"us.anthropic.claude-sonnet-4-20250514-v1:0\",\n",
    "    contentType='application/json',\n",
    "    accept='application/json',\n",
    "    body=json.dumps(request_body)\n",
    ")"
   ]
  },
  {
   "cell_type": "code",
   "execution_count": 89,
   "id": "13d3eea9",
   "metadata": {},
   "outputs": [
    {
     "data": {
      "text/plain": [
       "{'id': 'msg_bdrk_01WynQWXhtcPnHMVQAuEpA1h',\n",
       " 'type': 'message',\n",
       " 'role': 'assistant',\n",
       " 'model': 'claude-sonnet-4-20250514',\n",
       " 'content': [{'type': 'text',\n",
       "   'text': 'Looking at this document, I can see it\\'s clearly a tax form issued by DIAN (Dirección de Impuestos y Aduanas Nacionales), which is Colombia\\'s tax authority.\\n\\nKey identifying elements:\\n- Header shows \"DIAN\" and \"Formulario del Registro Único Tributario\"\\n- Form number 001 and document number 14280290057\\n- Contains tax identification number (NIT): 900686567-2\\n- Company name: MOLIAGRO NEIVA S.A.S.\\n- Structured sections for tax classification, economic activities, and tax responsibilities\\n- Contains CIIU codes for economic activities\\n- Tax responsibility codes (05, 07, 09, 11, 14, 35)\\n- Official DIAN signature and stamps\\n\\nThis is definitively a RUT (Registro Único Tributario) document - the official tax registration form that consolidates taxpayer data, tax classification, economic activities, and responsibilities.\\n\\n```json\\n{\\n  \"category\": \"RUT\",\\n  \"text\": \"DIAN\\\\nFormulario del Registro Único Tributario\\\\nHoja Principal\\\\n001\\\\n2. Concepto: 012 Actualización\\\\n4. Número de formulario: 14280290057\\\\n\\\\nEspacio reservado para la DIAN\\\\n\\\\n5. Número de Identificación Tributaria (NIT): 9 0 0 6 8 6 5 6 7 - 2\\\\n6. DV: 12. Dirección seccional: Impuestos y Aduanas de Neiva\\\\n14. Buzón electrónico: 13\\\\n\\\\nIDENTIFICACION\\\\n24. Tipo de contribuyente: Persona jurídica 1\\\\n25. Tipo de documento: 26. Número de identificación: 27. Fecha expedición:\\\\nLugar de expedición 28. País: 29. Departamento: 30. Ciudad/Municipio:\\\\n31. Primer apellido 32. Segundo apellido 33. Primer nombre 34. Otros'}],\n",
       " 'stop_reason': 'max_tokens',\n",
       " 'stop_sequence': None,\n",
       " 'usage': {'input_tokens': 1612,\n",
       "  'cache_creation_input_tokens': 0,\n",
       "  'cache_read_input_tokens': 3127,\n",
       "  'output_tokens': 500}}"
      ]
     },
     "execution_count": 89,
     "metadata": {},
     "output_type": "execute_result"
    }
   ],
   "source": [
    "response_body = json.loads(response['body'].read())\n",
    "response_body"
   ]
  },
  {
   "cell_type": "code",
   "execution_count": 84,
   "id": "a56a2d59",
   "metadata": {},
   "outputs": [
    {
     "data": {
      "text/plain": [
       "{'id': 'msg_bdrk_01V73ACGZtE1GFcoipaGSVNP',\n",
       " 'type': 'message',\n",
       " 'role': 'assistant',\n",
       " 'model': 'claude-sonnet-4-20250514',\n",
       " 'content': [{'type': 'text',\n",
       "   'text': 'Looking at this document, I need to analyze its content and purpose to classify it correctly.\\n\\n**TEXT EXTRACTION:**\\nThe document contains extensive text including form numbers, DIAN references, beneficiary information, and corporate data.\\n\\n**DOCUMENT FUNCTION ANALYSIS:**\\n'},\n",
       "  {'citations': [{'type': 'page_location',\n",
       "     'cited_text': ' Espacio reservado para la DIAN\\r\\n4. ',\n",
       "     'document_index': 0,\n",
       "     'document_title': 'ACC Report',\n",
       "     'start_page_number': 1,\n",
       "     'end_page_number': 2},\n",
       "    {'type': 'page_location',\n",
       "     'cited_text': ' Espacio reservado para la DIAN\\r\\n4. ',\n",
       "     'document_index': 0,\n",
       "     'document_title': 'ACC Report',\n",
       "     'start_page_number': 2,\n",
       "     'end_page_number': 3}],\n",
       "   'type': 'text',\n",
       "   'text': 'This document has \"Espacio reservado para la DIAN\" (Space reserved for DIAN)'},\n",
       "  {'type': 'text', 'text': ' and is titled '},\n",
       "  {'citations': [{'type': 'page_location',\n",
       "     'cited_text': ' Espacio reservado para la DIAN\\r\\n4. ',\n",
       "     'document_index': 0,\n",
       "     'document_title': 'ACC Report',\n",
       "     'start_page_number': 1,\n",
       "     'end_page_number': 2}],\n",
       "   'type': 'text',\n",
       "   'text': '\"Reporte de Beneficiarios Finales\"'},\n",
       "  {'type': 'text',\n",
       "   'text': '. The main purpose is to report final beneficiaries of a company for regulatory transparency and compliance purposes.\\n\\n**ISSUER IDENTIFICATION:**\\n'},\n",
       "  {'citations': [{'type': 'page_location',\n",
       "     'cited_text': ' Espacio reservado para la DIAN\\r\\n4. ',\n",
       "     'document_index': 0,\n",
       "     'document_title': 'ACC Report',\n",
       "     'start_page_number': 1,\n",
       "     'end_page_number': 2},\n",
       "    {'type': 'page_location',\n",
       "     'cited_text': ' Espacio reservado para la DIAN\\r\\n4. ',\n",
       "     'document_index': 0,\n",
       "     'document_title': 'ACC Report',\n",
       "     'start_page_number': 2,\n",
       "     'end_page_number': 3}],\n",
       "   'type': 'text',\n",
       "   'text': 'The document is issued by DIAN (Dirección de Impuestos y Aduanas Nacionales)'},\n",
       "  {'type': 'text',\n",
       "   'text': \", which is Colombia's tax authority.\\n\\n**KEY INDICATORS FOR RUB:**\\n- \"},\n",
       "  {'citations': [{'type': 'page_location',\n",
       "     'cited_text': ' Espacio reservado para la DIAN\\r\\n4. ',\n",
       "     'document_index': 0,\n",
       "     'document_title': 'ACC Report',\n",
       "     'start_page_number': 1,\n",
       "     'end_page_number': 2}],\n",
       "   'type': 'text',\n",
       "   'text': '\"Reporte de Beneficiarios Finales\" (Final Beneficiaries Report)'},\n",
       "  {'type': 'text', 'text': '\\n- '},\n",
       "  {'citations': [{'type': 'page_location',\n",
       "     'cited_text': ' Espacio reservado para la DIAN\\r\\n4. ',\n",
       "     'document_index': 0,\n",
       "     'document_title': 'ACC Report',\n",
       "     'start_page_number': 1,\n",
       "     'end_page_number': 2},\n",
       "    {'type': 'page_location',\n",
       "     'cited_text': ' Espacio reservado para la DIAN\\r\\n4. ',\n",
       "     'document_index': 0,\n",
       "     'document_title': 'ACC Report',\n",
       "     'start_page_number': 2,\n",
       "     'end_page_number': 3},\n",
       "    {'type': 'page_location',\n",
       "     'cited_text': '2 6 8 7 1 0 1 4 4 2 6 3 5 8\\r\\n2 2\\r\\n1 3\\r\\n1 3\\r\\n1 9 2 5 5 7 6 5\\r\\n4 1 3 2 4 0 0 9\\r\\nCOLOMBIA 1 6 9\\r\\nCOLOMBIA 1 6 9\\r\\n1 9 2 5 5 7 6 5\\r\\n4 1 3 2 4 0 0 9\\r\\nCOLOMBIA 1 6 9\\r\\nCOLOMBIA 1 6 9\\r\\nSANCHEZ\\r\\nSANCHEZ\\r\\nFERRE\\r\\nFERRE\\r\\nJUAN\\r\\nMARTHA\\r\\nCLAUDIO\\r\\nPATRICIA\\r\\n1 9 5 6 1 0 1 8\\r\\n1 9 5 1 0 3 2 8\\r\\nCOLOMBIA 1 6 9\\r\\nCOLOMBIA 1 6 9\\r\\nCOLOMBIA 1 6 9\\r\\nCOLOMBIA 1 6 9\\r\\nCOLOMBIA 1 6 9\\r\\nITALIA 3 8 6\\r\\nBogotá D.C. 1 1 Bogotá, D.C. 1 1 0\\r\\n0\\r\\nCARRERA 13 N 79 50\\r\\nVILLA ALDOBRANDINI\\r\\n110221\\r\\n64700\\r\\ndircontabilidadope@linalca.com\\r\\ndircontabilidadope@linalca.com\\r\\nCapital y Derechos de voto 3\\r\\nCapital y Derechos de voto 3\\r\\nActivos, rendimientos y utilidades 7\\r\\nActivos, rendimientos y utilidades 7\\r\\nNO\\r\\nNO\\r\\nNO\\r\\nNO\\r\\n49.6\\r\\n40.22\\r\\n49.6\\r\\n40.22\\r\\n1 9 9 6 0 6 2 4\\r\\n1 9 9 6 0 6 2 4\\r\\nActualización 2\\r\\nActualización 2',\n",
       "     'document_index': 0,\n",
       "     'document_title': 'ACC Report',\n",
       "     'start_page_number': 2,\n",
       "     'end_page_number': 3}],\n",
       "   'type': 'text',\n",
       "   'text': 'Form number \"2687101442635８\"'},\n",
       "  {'type': 'text', 'text': ' issued by DIAN\\n- '},\n",
       "  {'citations': [{'type': 'page_location',\n",
       "     'cited_text': '¿Identificó y reportó la TOTALIDAD de los beneficiarios finales?\\r\\n66. ',\n",
       "     'document_index': 0,\n",
       "     'document_title': 'ACC Report',\n",
       "     'start_page_number': 1,\n",
       "     'end_page_number': 2}],\n",
       "   'type': 'text',\n",
       "   'text': 'Questions about identifying and reporting \"TOTALIDAD de los beneficiarios finales\" (totality of final beneficiaries)'},\n",
       "  {'type': 'text', 'text': '\\n- '},\n",
       "  {'citations': [{'type': 'page_location',\n",
       "     'cited_text': 'Condición(es) que se debe(n) cumplir para determinar el beneficiario final\\r\\nUbicación\\r\\n51. ',\n",
       "     'document_index': 0,\n",
       "     'document_title': 'ACC Report',\n",
       "     'start_page_number': 2,\n",
       "     'end_page_number': 3},\n",
       "    {'type': 'page_location',\n",
       "     'cited_text': 'Condición(es) que se debe(n) cumplir para determinar el beneficiario final\\r\\nUbicación\\r\\n51. ',\n",
       "     'document_index': 0,\n",
       "     'document_title': 'ACC Report',\n",
       "     'start_page_number': 2,\n",
       "     'end_page_number': 3}],\n",
       "   'type': 'text',\n",
       "   'text': 'Detailed sections on \"Condición(es) que se debe(n) cumplir para determinar el beneficiario final\" (Conditions to determine final beneficiary)'},\n",
       "  {'type': 'text', 'text': '\\n- '},\n",
       "  {'citations': [{'type': 'page_location',\n",
       "     'cited_text': 'Porcentaje de participación 58. ',\n",
       "     'document_index': 0,\n",
       "     'document_title': 'ACC Report',\n",
       "     'start_page_number': 2,\n",
       "     'end_page_number': 3},\n",
       "    {'type': 'page_location',\n",
       "     'cited_text': 'Porcentaje de participación 58. ',\n",
       "     'document_index': 0,\n",
       "     'document_title': 'ACC Report',\n",
       "     'start_page_number': 2,\n",
       "     'end_page_number': 3}],\n",
       "   'type': 'text',\n",
       "   'text': 'Percentage participation data showing \"49.6\" and \"40.22\" percent ownership'},\n",
       "  {'type': 'text', 'text': '\\n- '},\n",
       "  {'citations': [{'type': 'page_location',\n",
       "     'cited_text': 'Titularidad Cód. ',\n",
       "     'document_index': 0,\n",
       "     'document_title': 'ACC Report',\n",
       "     'start_page_number': 2,\n",
       "     'end_page_number': 3},\n",
       "    {'type': 'page_location',\n",
       "     'cited_text': 'Titularidad Cód. ',\n",
       "     'document_index': 0,\n",
       "     'document_title': 'ACC Report',\n",
       "     'start_page_number': 2,\n",
       "     'end_page_number': 3}],\n",
       "   'type': 'text',\n",
       "   'text': 'Control criteria including \"Titularidad\" (ownership)'},\n",
       "  {'type': 'text', 'text': ' and '},\n",
       "  {'type': 'text', 'text': ''}],\n",
       " 'stop_reason': 'max_tokens',\n",
       " 'stop_sequence': None,\n",
       " 'usage': {'input_tokens': 6862,\n",
       "  'cache_creation_input_tokens': 0,\n",
       "  'cache_read_input_tokens': 3127,\n",
       "  'output_tokens': 500}}"
      ]
     },
     "execution_count": 84,
     "metadata": {},
     "output_type": "execute_result"
    }
   ],
   "source": [
    "response_body = json.loads(response['body'].read())\n",
    "response_body"
   ]
  },
  {
   "cell_type": "code",
   "execution_count": 79,
   "id": "04530891",
   "metadata": {},
   "outputs": [
    {
     "data": {
      "text/plain": [
       "{'id': 'msg_bdrk_01JMiVq6Yp31DyNFCSmBmo2c',\n",
       " 'type': 'message',\n",
       " 'role': 'assistant',\n",
       " 'model': 'claude-sonnet-4-20250514',\n",
       " 'content': [{'type': 'text',\n",
       "   'text': 'Looking at this document, I can see it is a tax registration form with clear identifying elements.\\n\\n**TEXT EXTRACTION:**\\nThe document contains \"Formulario del Registro Único Tributario\" at the top, issued by DIAN, with form number 14451412687. It includes sections for identification, location, classification, economic activities, tax responsibilities, and other tax-related information.\\n\\n**CLASSIFICATION ANALYSIS:**\\n\\n1. **Issuer**: '},\n",
       "  {'type': 'text',\n",
       "   'text': 'DIAN (Dirección de Impuestos y Aduanas Nacionales)'},\n",
       "  {'type': 'text', 'text': '\\n2. **Document Type**: '},\n",
       "  {'type': 'text', 'text': 'Formulario del Registro Único Tributario'},\n",
       "  {'type': 'text',\n",
       "   'text': '\\n3. **Structure**: Numbered form with sections for tax classification, economic activities, and tax responsibilities\\n4. **Purpose**: Tax registration and classification of taxpayer data\\n\\nThis clearly fits the RUT category as it is a tax registration document issued by DIAN that consolidates taxpayer data, tax classification, and economic activities.\\n\\n```json\\n{\\n  \"category\": \"RUT\",\\n  \"text\": \"DIAN Formulario del Registro Único Tributario Hoja Principal 001 2. Concepto 0 2 Actualización Espacio reservado para la DIAN 4. Número de formulario 14451412687 5. Número de Identificación Tributaria (NIT): 8 0 0 0 0 5 0 0 9 - 0 6. DV 12. Dirección seccional Impuestos de Bogotá 14. Buzón electrónico 3 2 IDENTIFICACION 24. Tipo de contribuyente: Persona jurídica 25. Tipo de documento: 1 26. Número de identificación: 27. Fecha expedición: Lugar de expedición 28. País: 29. Departamento 30. Ciudad/Municipio: 31. Primer apellido 32. Segundo apellido 33. Primer nombre 34. Otros nombres 35. Razón social: SFM'}],\n",
       " 'stop_reason': 'max_tokens',\n",
       " 'stop_sequence': None,\n",
       " 'usage': {'input_tokens': 1612,\n",
       "  'cache_creation_input_tokens': 3127,\n",
       "  'cache_read_input_tokens': 0,\n",
       "  'output_tokens': 500}}"
      ]
     },
     "execution_count": 79,
     "metadata": {},
     "output_type": "execute_result"
    }
   ],
   "source": [
    "response_body = json.loads(response['body'].read())\n",
    "response_body"
   ]
  },
  {
   "cell_type": "code",
   "execution_count": 74,
   "id": "f598c67b",
   "metadata": {},
   "outputs": [
    {
     "data": {
      "text/plain": [
       "{'id': 'msg_bdrk_01ChdH5VM1FTdZtcmz5xbdhr',\n",
       " 'type': 'message',\n",
       " 'role': 'assistant',\n",
       " 'model': 'claude-sonnet-4-20250514',\n",
       " 'content': [{'type': 'text',\n",
       "   'text': 'Looking at this document, I can see it\\'s a form from DIAN (Dirección de Impuestos y Aduanas Nacionales) which is Colombia\\'s tax authority. The document shows:\\n\\n1. **DIAN header and official formatting** - This is clearly a tax authority document\\n2. **Form number 14128054034** - Structured numbering typical of tax forms\\n3. **\"Formulario del Registro Único Tributario\"** - This translates to \"Single Tax Registry Form\"\\n4. **Tax-related sections** including:\\n   - Identification sections\\n   - Economic activity codes (CIIU codes visible)\\n   - Tax responsibilities and classifications\\n   - Business location and establishment information\\n\\nThis is clearly a RUT (Registro Único Tributario) document - the official tax registration form that consolidates taxpayer data, tax classification, economic activities, and responsibilities issued by DIAN.\\n\\n```json\\n{\\n  \"category\": \"RUT\",\\n  \"text\": \"Fa$}le;éd R@rlhlÚf,á,riai¡ Hrii *iieliai i41200s4034 E.c.¡ 2.9 I 1,0 ¡i-la ib*! \\\\\"ea{ --l j:ti...;;\\\\\"*- i5;CK Cal. )lAlNEA ilM¡:ArJA I - ¡*;;;. *\\' ¡ii!éé6 tfui¡eb ñrd dr\\'€ e. ñdej r4r!^Ho M!1aJ r,1A $1c.9o61\\'rtJ ::\\' ::::T:i :t l: -\\'-:-*\\' \\\\\"1:r1# DIAN Formulario del Registro Único Tributario Hoja Principal 001 14128054034 IDENTIFICACIÓN BACK CONTAINER LIMITADA UBICACIÓN COLOMBIA CRA 11 190 OF 09 backcontainers@gmail.com Actividad económica Actividad secundaria Otras actividades Ocupación Código Actividad principal Código Actividad secundaria Código'}],\n",
       " 'stop_reason': 'max_tokens',\n",
       " 'stop_sequence': None,\n",
       " 'usage': {'input_tokens': 3,\n",
       "  'cache_creation_input_tokens': 4966,\n",
       "  'cache_read_input_tokens': 0,\n",
       "  'output_tokens': 500}}"
      ]
     },
     "execution_count": 74,
     "metadata": {},
     "output_type": "execute_result"
    }
   ],
   "source": [
    "response_body = json.loads(response['body'].read())\n",
    "response_body #cache en el prompt"
   ]
  },
  {
   "cell_type": "code",
   "execution_count": 69,
   "id": "4813f090",
   "metadata": {},
   "outputs": [
    {
     "data": {
      "text/plain": [
       "{'id': 'msg_bdrk_01NgNcZMvQ7zRXsH3wQVz88F',\n",
       " 'type': 'message',\n",
       " 'role': 'assistant',\n",
       " 'model': 'claude-sonnet-4-20250514',\n",
       " 'content': [{'type': 'text',\n",
       "   'text': 'Looking at this document, I can extract the following text and analyze its content:\\n\\n**TEXT EXTRACTION:**\\nThe document contains fragmented text including \"Fa$}le;éd R@rlhlÚf,á,riai¡\", \"Hrii *iieliai\", \"i41200s4034\", \"E.c.¡ 2.9 I 1,0 ¡i-la ib*!\", \"DIAN\", \"Formulario del Registro Único Tributario\", \"Hoja Principal\", \"14128094034\", and various form fields and sections typical of a tax registration document.\\n\\n**DOCUMENT FUNCTION ANALYSIS:**\\n'},\n",
       "  {'citations': [{'type': 'page_location',\n",
       "     'cited_text': 'Fa$}le;éd R@rlhlÚf,á,riai¡\\r\\nHrii *iieliai\\r\\ni41200s4034\\r\\nE.c.¡ 2.9 I 1,0 ¡i-la ib*!\"ea{\\r\\n--l\\r\\nj:ti...;;\";*-\\r\\ni5;CK Cal.)lAlNEA ilM¡:ArJA\\r\\nI - ¡*;;;.*\\'\\r\\n¡ii!éé6 tfui¡eb ñrd dr\\'€\\r\\ne. ñdej r4r!^Ho M!1aJ r,1A\\r\\n$1c.9o61\\'rtJ\\r\\n::\\' ::::T:i :t l: -\\'-:-*\\' \"1:r1# \"',\n",
       "     'document_index': 0,\n",
       "     'document_title': 'ACC Report',\n",
       "     'start_page_number': 1,\n",
       "     'end_page_number': 2}],\n",
       "   'type': 'text',\n",
       "   'text': 'This document shows clear indicators of being a tax registration form, specifically a \"Formulario del Registro Único Tributario\" (Unique Tax Registry Form) issued by DIAN, which is Colombia\\'s tax authority'},\n",
       "  {'type': 'text',\n",
       "   'text': '. The document contains structured form sections for tax classification, economic activities, and taxpayer identification.\\n\\n**ISSUER IDENTIFICATION:**\\n'},\n",
       "  {'citations': [{'type': 'page_location',\n",
       "     'cited_text': 'Fa$}le;éd R@rlhlÚf,á,riai¡\\r\\nHrii *iieliai\\r\\ni41200s4034\\r\\nE.c.¡ 2.9 I 1,0 ¡i-la ib*!\"ea{\\r\\n--l\\r\\nj:ti...;;\";*-\\r\\ni5;CK Cal.)lAlNEA ilM¡:ArJA\\r\\nI - ¡*;;;.*\\'\\r\\n¡ii!éé6 tfui¡eb ñrd dr\\'€\\r\\ne. ñdej r4r!^Ho M!1aJ r,1A\\r\\n$1c.9o61\\'rtJ\\r\\n::\\' ::::T:i :t l: -\\'-:-*\\' \"1:r1# \"',\n",
       "     'document_index': 0,\n",
       "     'document_title': 'ACC Report',\n",
       "     'start_page_number': 1,\n",
       "     'end_page_number': 2}],\n",
       "   'type': 'text',\n",
       "   'text': \"The document is issued by DIAN (Dirección de Impuestos y Aduanas Nacionales), Colombia's national tax and customs authority\"},\n",
       "  {'type': 'text',\n",
       "   'text': '.\\n\\n**CATEGORY CLASSIFICATION:**\\nThis document clearly fits the RUT category as it is:\\n1. A tax registration document issued by DIAN\\n2. Contains the specific terminology \"Formulario del Registro Único Tributario\"\\n3. Has numbered form structure typical of tax documents\\n4. Contains sections for tax classification and economic activities\\n\\n```json\\n{\\n  \"category\": \"RUT\",\\n  \"text\": \"Fa$}le;éd R@rlhlÚf,á,riai¡\\\\nHrii *iieliai\\\\ni41200s4034\\\\nE.c.¡ 2.9 I 1,0 ¡i-la ib*!\\\\n\\\\\"ea{\\\\n--l\\\\nj:ti...;;\\\\\"*-\\\\ni'}],\n",
       " 'stop_reason': 'max_tokens',\n",
       " 'stop_sequence': None,\n",
       " 'usage': {'input_tokens': 4969,\n",
       "  'cache_creation_input_tokens': 0,\n",
       "  'cache_read_input_tokens': 0,\n",
       "  'output_tokens': 500}}"
      ]
     },
     "execution_count": 69,
     "metadata": {},
     "output_type": "execute_result"
    }
   ],
   "source": [
    "response_body = json.loads(response['body'].read())\n",
    "response_body #los tokens en total son como 5k"
   ]
  },
  {
   "cell_type": "code",
   "execution_count": 64,
   "id": "43d40938",
   "metadata": {},
   "outputs": [
    {
     "data": {
      "text/plain": [
       "{'id': 'msg_bdrk_01AySYCGk42p4LRnRD5sX9PP',\n",
       " 'type': 'message',\n",
       " 'role': 'assistant',\n",
       " 'model': 'claude-sonnet-4-20250514',\n",
       " 'content': [{'type': 'text',\n",
       "   'text': 'Looking at this document, I can see it\\'s a tax form from DIAN (Dirección de Impuestos y Aduanas Nacionales), which is Colombia\\'s tax authority.\\n\\nKey indicators that make this a RUT document:\\n- Header clearly shows \"DIAN\" and \"Formulario del Registro Único Tributario\"\\n- Form number 14280290057\\n- Tax identification number (NIT): 900686567-2\\n- Structured sections for identification, location, economic activities, and tax responsibilities\\n- Tax classification codes and responsibilities sections\\n- Company information: MOLIAGRO NEIVA S.A.S.\\n- Located in Colombia, Huila department, Neiva\\n\\nThis is clearly a RUT (Registro Único Tributario) document issued by DIAN for tax registration purposes.\\n\\n```json\\n{\\n  \"category\": \"RUT\",\\n  \"text\": \"DIAN\\\\nFormulario del Registro Único Tributario\\\\nHoja Principal\\\\n001\\\\n2. Concepto 012 Actualización\\\\n4. Número de formulario 14280290057\\\\n5. Número de Identificación Tributaria (NIT): 900686567-2\\\\n6. DV 12. Dirección seccional\\\\nImpuestos y Aduanas de Neiva\\\\n14. Buzón electrónico 13\\\\nIDENTIFICACION\\\\n24. Tipo de contribuyente: Persona jurídica 1\\\\n25. Tipo de documento: 26. Número de identificación: 27. Fecha expedición:\\\\nLugar de expedición 28. País: 29. Departamento: 30. Ciudad/Municipio:\\\\n31. Primer apellido 32. Segundo apellido 33. Primer nombre 34. Otros nombres\\\\n35. Razón social: MOLIAGRO NEIVA S.A.S.\\\\n36. Nombre comercial: MOLIAGRO NEIVA S.A.S.\\\\n37. Sigla: MOLIAGRO NEIVA S.A.S.\\\\nUBIC'}],\n",
       " 'stop_reason': 'max_tokens',\n",
       " 'stop_sequence': None,\n",
       " 'usage': {'input_tokens': 2644,\n",
       "  'cache_creation_input_tokens': 2094,\n",
       "  'cache_read_input_tokens': 0,\n",
       "  'output_tokens': 500}}"
      ]
     },
     "execution_count": 64,
     "metadata": {},
     "output_type": "execute_result"
    }
   ],
   "source": [
    "response_body = json.loads(response['body'].read())\n",
    "response_body #prompt caching en el documento"
   ]
  },
  {
   "cell_type": "code",
   "execution_count": null,
   "id": "8f167975",
   "metadata": {},
   "outputs": [],
   "source": []
  },
  {
   "cell_type": "code",
   "execution_count": null,
   "id": "3a1afac4",
   "metadata": {},
   "outputs": [],
   "source": []
  },
  {
   "cell_type": "code",
   "execution_count": null,
   "id": "80253e99",
   "metadata": {},
   "outputs": [],
   "source": []
  },
  {
   "cell_type": "code",
   "execution_count": null,
   "id": "b2061fa7",
   "metadata": {},
   "outputs": [],
   "source": []
  },
  {
   "cell_type": "code",
   "execution_count": 59,
   "id": "742a34f4",
   "metadata": {},
   "outputs": [
    {
     "data": {
      "text/plain": [
       "{'id': 'msg_bdrk_01P6rCCT2u41btaPCKEFKxfo',\n",
       " 'type': 'message',\n",
       " 'role': 'assistant',\n",
       " 'model': 'claude-sonnet-4-20250514',\n",
       " 'content': [{'type': 'text',\n",
       "   'text': '```json\\n{\\n  \"category\": \"ACC\",\\n  \"text\": \"EL SUSCRITO REVISOR FISCAL DE LA SOCIEDAD COTEL S.A.S\\\\nNIT .800.122.811-2\\\\n\\\\nCERTIFICA QUE:\\\\n\\\\nDe acuerdo con el Acta No. 083 de la Asamblea General Ordinaria de Accionistas de Cotel S.A.S de fecha marzo 29 de 2022, la nueva composición accionaria quedó registrada así:\\\\n\\\\nAccionista | Documento Identificación | No. de Acciones | % de Participación\\\\nJames Herney Quijano Morán | 16.758.096 | 5.740.000.000 | 82%\\\\nMaría del Pilar Zuluaga Marín | 66.901.361 | 700.000.000 | 10%\\\\nNicolle Dayana Quijano Zuluaga | 1.107.089.788 | 210.000.000 | 3%\\\\nJuan Pablo Quijano Zuluaga | 1.144.109.912 | 210.000.000 | 3%\\\\nCotel S.A.S | 800.122.811-2 | 140.000.000 | 2%\\\\nTotal | | 7.000.000.000 | 100%\\\\n\\\\nLa nueva composición accionaria fue registrada en los libros contables, así mismo fue actualizado el libro de Registro de Accionistas.\\\\n\\\\nLa presente certificación se expide en Santiago de Cali a los cinco (05) días del mes de febrero de 2024.\\\\n\\\\nGustavo Adolfo Luna Salazar\\\\nRevisor Fiscal\\\\nTP No. 77391-T\\\\nMiembro de Bloodhound Consulting Group SAS\\\\n\\\\nwww.cotel.com.co\"\\n}\\n```'}],\n",
       " 'stop_reason': 'end_turn',\n",
       " 'stop_sequence': None,\n",
       " 'usage': {'input_tokens': 2644,\n",
       "  'cache_creation_input_tokens': 0,\n",
       "  'cache_read_input_tokens': 2073,\n",
       "  'output_tokens': 492}}"
      ]
     },
     "execution_count": 59,
     "metadata": {},
     "output_type": "execute_result"
    }
   ],
   "source": [
    "response_body"
   ]
  },
  {
   "cell_type": "code",
   "execution_count": 51,
   "id": "4a8325c9",
   "metadata": {},
   "outputs": [
    {
     "data": {
      "text/plain": [
       "{'id': 'msg_bdrk_01MaL6oMAJGeeKVystxignF7',\n",
       " 'type': 'message',\n",
       " 'role': 'assistant',\n",
       " 'model': 'claude-sonnet-4-20250514',\n",
       " 'content': [{'type': 'text',\n",
       "   'text': 'Looking at this document, I can see it contains a Colombian identification card (cédula de ciudadanía) with personal information.\\n\\n**TEXT EXTRACTION:**\\nThe document shows:\\n- \"REPUBLICA DE COLOMBIA\"\\n- \"IDENTIFICACION PERSONAL\"\\n- \"CEDULA DE CIUDADANIA\"\\n- Personal details including name \"SANCHEZ DUARTE\" and \"DARIO\"\\n- ID number \"3.357.420\"\\n- Birth information \"01-AGO-1962\"\\n- Location \"YONDO - CASABE\"\\n- \"YONDO (ANTIOQUIA)\"\\n- Physical characteristics \"1.75\" (height), \"O+\" (blood type), \"M\" (sex)\\n- Issue date \"13-ABR-1991 YONDO\"\\n- Various security elements including fingerprint and barcode\\n\\n**DOCUMENT FUNCTION ANALYSIS:**\\nThis is clearly a personal identification document issued by the Colombian government for individual citizen identification purposes.\\n\\n**CATEGORY CLASSIFICATION:**\\nThis document fits perfectly into the CECRL category as it contains:\\n- Official government terminology: \"REPÚBLICA DE COLOMBIA IDENTIFICACIÓN PERSONAL\", \"CÉDULA DE CIUDADANÍA\"\\n- Personal biographical data: birth date, place of birth, blood type, sex, height\\n- Individual identification with photograph and fingerprint\\n- Government-issued personal identification number\\n- Security elements: barcode, official formatting\\n\\n```json\\n{\\n  \"category\": \"CECRL\",\\n  \"text\": \"REPUBLICA DE COLOMBIA\\\\nIDENTIFICACION PERSONAL\\\\nCEDULA DE CIUDADANIA\\\\n3.357.420\\\\nSANCHEZ DUARTE\\\\nDARIO\\\\n01-AGO-1962\\\\nYONDO - CASABE\\\\nYONDO (ANTIOQUIA)\\\\n1.75\\\\nO+\\\\nM\\\\n13-ABR-1991 YONDO\"\\n}\\n```'}],\n",
       " 'stop_reason': 'end_turn',\n",
       " 'stop_sequence': None,\n",
       " 'usage': {'input_tokens': 3,\n",
       "  'cache_creation_input_tokens': 4714,\n",
       "  'cache_read_input_tokens': 0,\n",
       "  'output_tokens': 457}}"
      ]
     },
     "execution_count": 51,
     "metadata": {},
     "output_type": "execute_result"
    }
   ],
   "source": [
    "response_body"
   ]
  },
  {
   "cell_type": "code",
   "execution_count": 45,
   "id": "b193053d",
   "metadata": {},
   "outputs": [
    {
     "data": {
      "text/plain": [
       "{'id': 'msg_bdrk_01C1rTaqoX4ceQDfwvdEjCoZ',\n",
       " 'type': 'message',\n",
       " 'role': 'assistant',\n",
       " 'model': 'claude-sonnet-4-20250514',\n",
       " 'content': [{'type': 'text',\n",
       "   'text': 'Looking at this document, I need to extract all the text and analyze its function and content.\\n\\n**TEXT EXTRACTION:**\\nThe document contains:\\n- Header: \"EL SUSCRITO REVISOR FISCAL DE LA SOCIEDAD COTEL S.A.S NIT .800.122.811-2\"\\n- \"CERTIFICA QUE:\"\\n- Reference to \"Acta No. 063 de la Asamblea General Ordinaria de Accionistas de Cotel S.A.S de fecha marzo 29 de 2022\"\\n- A detailed table showing shareholding composition with columns for: Accionista, Documento Identificación, No. de Acciones, % de Participación\\n- Five shareholders listed with their ownership percentages (82%, 10%, 3%, 3%, 2%)\\n- Total shares: 7,000,000,000 (100%)\\n- Statement about registration in accounting books\\n- Certification date and signature of fiscal revisor\\n\\n**DOCUMENT FUNCTION ANALYSIS:**\\nThis document\\'s main purpose is to certify the shareholding composition of COTEL S.A.S. It shows detailed information about shareholders including their names, identification numbers, number of shares, and ownership percentages.\\n\\n**ISSUER IDENTIFICATION:**\\nThe document is issued by the fiscal revisor (auditor) of the company COTEL S.A.S, which is a corporate entity, not a government authority.\\n\\n**CATEGORY CLASSIFICATION:**\\nThis clearly falls under ACC category because:\\n- It shows shareholding composition with specific ownership percentages\\n- Contains shareholder information (names, IDs, share quantities, participation percentages)\\n- Is issued by a corporate entity (through its fiscal revisor)\\n- Main function is to certify the company\\'s shareholding structure\\n- Contains terminology like \"Accionista\", \"Acciones\", \"% de Participación\"\\n\\n```json\\n{\\n  \"category\": \"ACC\",\\n  \"text\": \"EL SUSCRITO REVISOR FISCAL DE LA SOCIEDAD COTEL S.A.S NIT .800.122.811-2\\\\n\\\\nCERTIFICA QUE:\\\\n\\\\nDe acuer'}],\n",
       " 'stop_reason': 'max_tokens',\n",
       " 'stop_sequence': None,\n",
       " 'usage': {'input_tokens': 3,\n",
       "  'cache_creation_input_tokens': 4714,\n",
       "  'cache_read_input_tokens': 0,\n",
       "  'output_tokens': 500}}"
      ]
     },
     "execution_count": 45,
     "metadata": {},
     "output_type": "execute_result"
    }
   ],
   "source": [
    "response_body"
   ]
  },
  {
   "cell_type": "code",
   "execution_count": 39,
   "id": "9f9c11f5",
   "metadata": {},
   "outputs": [
    {
     "data": {
      "text/plain": [
       "{'id': 'msg_bdrk_013DC76kUo8Db7DBUdJd9TWB',\n",
       " 'type': 'message',\n",
       " 'role': 'assistant',\n",
       " 'model': 'claude-sonnet-4-20250514',\n",
       " 'content': [{'type': 'text',\n",
       "   'text': 'Looking at this document, I need to extract the text and analyze its function.\\n\\n**TEXT EXTRACTION:**\\nThe document contains:\\n- Header: \"EL SUSCRITO REVISOR FISCAL DE LA SOCIEDAD COTEL S.A.S NIT .800.122.811-2\"\\n- \"CERTIFICA QUE:\"\\n- Reference to \"Acta No. 083 de la Asamblea General Ordinaria de Accionistas de Cotel S.A.S de fecha marzo 29 de 2022\"\\n- A table showing shareholder composition (\"nueva composición accionaria\") with columns for:\\n  - Accionista (Shareholder)\\n  - Documento Identificación (ID Document)\\n  - No. de Acciones (Number of Shares)  \\n  - % de Participación (Participation Percentage)\\n- Lists 5 shareholders with their respective shareholdings and percentages (82%, 10%, 3%, 3%, 2%)\\n- Total shares: 7,000,000,000 (100%)\\n- Signature of fiscal auditor\\n\\n**DOCUMENT FUNCTION ANALYSIS:**\\nThis document\\'s main purpose is to certify and document the shareholding composition of COTEL S.A.S company, showing percentage participation and number of shares for each shareholder.\\n\\n**CATEGORY CLASSIFICATION:**\\nThis is clearly an ACC document because:\\n- It shows detailed shareholding composition with specific percentages and share numbers\\n- Contains shareholder names, participation percentages, and number of shares\\n- Uses terminology like \"Accionista\", \"composición accionaria\", \"% de Participación\"\\n- Is issued by the company itself (through its fiscal auditor), not by a commercial registry authority\\n- Primary function is to document shareholder ownership structure\\n\\n```json\\n{\\n  \"category\": \"ACC\",\\n  \"text\": \"EL SUSCRITO REVISOR FISCAL DE LA SOCIEDAD COTEL S.A.S\\\\nNIT .800.122.811-2\\\\n\\\\nCERTIFICA QUE:\\\\n\\\\nDe acuerdo con el Acta No. 083 de la Asamblea General'}],\n",
       " 'stop_reason': 'max_tokens',\n",
       " 'stop_sequence': None,\n",
       " 'usage': {'input_tokens': 3,\n",
       "  'cache_creation_input_tokens': 0,\n",
       "  'cache_read_input_tokens': 4714,\n",
       "  'output_tokens': 500}}"
      ]
     },
     "execution_count": 39,
     "metadata": {},
     "output_type": "execute_result"
    }
   ],
   "source": [
    "response_body"
   ]
  },
  {
   "cell_type": "code",
   "execution_count": 69,
   "id": "3572ee9d",
   "metadata": {},
   "outputs": [],
   "source": [
    "model_id = \"us.anthropic.claude-sonnet-4-20250514-v1:0\"\n"
   ]
  },
  {
   "cell_type": "code",
   "execution_count": 70,
   "id": "30c72be4",
   "metadata": {},
   "outputs": [],
   "source": [
    "system_message = [\n",
    "\t{\n",
    "\t\t\"text\": \"You are a helpful assistant.\"\n",
    "\t}\n",
    "]"
   ]
  },
  {
   "cell_type": "code",
   "execution_count": 78,
   "id": "c73f3ed5",
   "metadata": {},
   "outputs": [],
   "source": [
    "with open(\"259_CA_2020-02-29.pdf\", \"rb\") as pdf_file:\n",
    "    pdf_bytes = pdf_file.read()\n"
   ]
  },
  {
   "cell_type": "code",
   "execution_count": 79,
   "id": "afa58797",
   "metadata": {},
   "outputs": [],
   "source": [
    "messages = [\n",
    "    {\n",
    "        \"role\": \"user\",\n",
    "        \"content\": [\n",
    "            {\n",
    "                \"document\": {\n",
    "                    \"name\": \"ACC Report\",\n",
    "                    \"format\": \"pdf\",\n",
    "                    \"source\": {\n",
    "                        \"bytes\": pdf_bytes  # Raw bytes, not base64!\n",
    "                    },\n",
    "                    \"citations\": {\"enabled\": True}  # REQUIRED for Claude's PDF support in Converse!\n",
    "                }\n",
    "            },\n",
    "            {\n",
    "                \"text\": \"What visual elements (charts, graphs, diagrams) are present in this document? Describe what they show.\"\n",
    "            }\n",
    "        ]\n",
    "    }\n",
    "]\n"
   ]
  },
  {
   "cell_type": "code",
   "execution_count": 80,
   "id": "4ae23c59",
   "metadata": {},
   "outputs": [
    {
     "ename": "ParamValidationError",
     "evalue": "Parameter validation failed:\nUnknown parameter in messages[0].content[0].document: \"citations\", must be one of: format, name, source",
     "output_type": "error",
     "traceback": [
      "\u001b[31m---------------------------------------------------------------------------\u001b[39m",
      "\u001b[31mParamValidationError\u001b[39m                      Traceback (most recent call last)",
      "\u001b[36mCell\u001b[39m\u001b[36m \u001b[39m\u001b[32mIn[80]\u001b[39m\u001b[32m, line 1\u001b[39m\n\u001b[32m----> \u001b[39m\u001b[32m1\u001b[39m response = \u001b[43mbedrock_client\u001b[49m\u001b[43m.\u001b[49m\u001b[43mconverse\u001b[49m\u001b[43m(\u001b[49m\n\u001b[32m      2\u001b[39m \u001b[43m    \u001b[49m\u001b[43mmodelId\u001b[49m\u001b[43m=\u001b[49m\u001b[33;43m\"\u001b[39;49m\u001b[33;43mus.anthropic.claude-sonnet-4-20250514-v1:0\u001b[39;49m\u001b[33;43m\"\u001b[39;49m\u001b[43m,\u001b[49m\n\u001b[32m      3\u001b[39m \u001b[43m    \u001b[49m\u001b[43mmessages\u001b[49m\u001b[43m=\u001b[49m\u001b[43mmessages\u001b[49m\u001b[43m,\u001b[49m\n\u001b[32m      4\u001b[39m \u001b[43m    \u001b[49m\u001b[43minferenceConfig\u001b[49m\u001b[43m=\u001b[49m\u001b[43m{\u001b[49m\n\u001b[32m      5\u001b[39m \u001b[43m        \u001b[49m\u001b[33;43m\"\u001b[39;49m\u001b[33;43mmaxTokens\u001b[39;49m\u001b[33;43m\"\u001b[39;49m\u001b[43m:\u001b[49m\u001b[43m \u001b[49m\u001b[32;43m500\u001b[39;49m\u001b[43m,\u001b[49m\n\u001b[32m      6\u001b[39m \u001b[43m        \u001b[49m\u001b[33;43m\"\u001b[39;49m\u001b[33;43mtemperature\u001b[39;49m\u001b[33;43m\"\u001b[39;49m\u001b[43m:\u001b[49m\u001b[43m \u001b[49m\u001b[32;43m0.5\u001b[39;49m\n\u001b[32m      7\u001b[39m \u001b[43m    \u001b[49m\u001b[43m}\u001b[49m\n\u001b[32m      8\u001b[39m \u001b[43m)\u001b[49m\n",
      "\u001b[36mFile \u001b[39m\u001b[32mc:\\Users\\Usuario\\Desktop\\parservicios\\bedrock-agent-par-servicios\\venv\\Lib\\site-packages\\botocore\\client.py:595\u001b[39m, in \u001b[36mClientCreator._create_api_method.<locals>._api_call\u001b[39m\u001b[34m(self, *args, **kwargs)\u001b[39m\n\u001b[32m    591\u001b[39m     \u001b[38;5;28;01mraise\u001b[39;00m \u001b[38;5;167;01mTypeError\u001b[39;00m(\n\u001b[32m    592\u001b[39m         \u001b[33mf\u001b[39m\u001b[33m\"\u001b[39m\u001b[38;5;132;01m{\u001b[39;00mpy_operation_name\u001b[38;5;132;01m}\u001b[39;00m\u001b[33m() only accepts keyword arguments.\u001b[39m\u001b[33m\"\u001b[39m\n\u001b[32m    593\u001b[39m     )\n\u001b[32m    594\u001b[39m \u001b[38;5;66;03m# The \"self\" in this scope is referring to the BaseClient.\u001b[39;00m\n\u001b[32m--> \u001b[39m\u001b[32m595\u001b[39m \u001b[38;5;28;01mreturn\u001b[39;00m \u001b[38;5;28;43mself\u001b[39;49m\u001b[43m.\u001b[49m\u001b[43m_make_api_call\u001b[49m\u001b[43m(\u001b[49m\u001b[43moperation_name\u001b[49m\u001b[43m,\u001b[49m\u001b[43m \u001b[49m\u001b[43mkwargs\u001b[49m\u001b[43m)\u001b[49m\n",
      "\u001b[36mFile \u001b[39m\u001b[32mc:\\Users\\Usuario\\Desktop\\parservicios\\bedrock-agent-par-servicios\\venv\\Lib\\site-packages\\botocore\\context.py:123\u001b[39m, in \u001b[36mwith_current_context.<locals>.decorator.<locals>.wrapper\u001b[39m\u001b[34m(*args, **kwargs)\u001b[39m\n\u001b[32m    121\u001b[39m \u001b[38;5;28;01mif\u001b[39;00m hook:\n\u001b[32m    122\u001b[39m     hook()\n\u001b[32m--> \u001b[39m\u001b[32m123\u001b[39m \u001b[38;5;28;01mreturn\u001b[39;00m \u001b[43mfunc\u001b[49m\u001b[43m(\u001b[49m\u001b[43m*\u001b[49m\u001b[43margs\u001b[49m\u001b[43m,\u001b[49m\u001b[43m \u001b[49m\u001b[43m*\u001b[49m\u001b[43m*\u001b[49m\u001b[43mkwargs\u001b[49m\u001b[43m)\u001b[49m\n",
      "\u001b[36mFile \u001b[39m\u001b[32mc:\\Users\\Usuario\\Desktop\\parservicios\\bedrock-agent-par-servicios\\venv\\Lib\\site-packages\\botocore\\client.py:1015\u001b[39m, in \u001b[36mBaseClient._make_api_call\u001b[39m\u001b[34m(self, operation_name, api_params)\u001b[39m\n\u001b[32m   1011\u001b[39m \u001b[38;5;28;01mif\u001b[39;00m properties:\n\u001b[32m   1012\u001b[39m     \u001b[38;5;66;03m# Pass arbitrary endpoint info with the Request\u001b[39;00m\n\u001b[32m   1013\u001b[39m     \u001b[38;5;66;03m# for use during construction.\u001b[39;00m\n\u001b[32m   1014\u001b[39m     request_context[\u001b[33m'\u001b[39m\u001b[33mendpoint_properties\u001b[39m\u001b[33m'\u001b[39m] = properties\n\u001b[32m-> \u001b[39m\u001b[32m1015\u001b[39m request_dict = \u001b[38;5;28;43mself\u001b[39;49m\u001b[43m.\u001b[49m\u001b[43m_convert_to_request_dict\u001b[49m\u001b[43m(\u001b[49m\n\u001b[32m   1016\u001b[39m \u001b[43m    \u001b[49m\u001b[43mapi_params\u001b[49m\u001b[43m=\u001b[49m\u001b[43mapi_params\u001b[49m\u001b[43m,\u001b[49m\n\u001b[32m   1017\u001b[39m \u001b[43m    \u001b[49m\u001b[43moperation_model\u001b[49m\u001b[43m=\u001b[49m\u001b[43moperation_model\u001b[49m\u001b[43m,\u001b[49m\n\u001b[32m   1018\u001b[39m \u001b[43m    \u001b[49m\u001b[43mendpoint_url\u001b[49m\u001b[43m=\u001b[49m\u001b[43mendpoint_url\u001b[49m\u001b[43m,\u001b[49m\n\u001b[32m   1019\u001b[39m \u001b[43m    \u001b[49m\u001b[43mcontext\u001b[49m\u001b[43m=\u001b[49m\u001b[43mrequest_context\u001b[49m\u001b[43m,\u001b[49m\n\u001b[32m   1020\u001b[39m \u001b[43m    \u001b[49m\u001b[43mheaders\u001b[49m\u001b[43m=\u001b[49m\u001b[43madditional_headers\u001b[49m\u001b[43m,\u001b[49m\n\u001b[32m   1021\u001b[39m \u001b[43m\u001b[49m\u001b[43m)\u001b[49m\n\u001b[32m   1022\u001b[39m resolve_checksum_context(request_dict, operation_model, api_params)\n\u001b[32m   1024\u001b[39m service_id = \u001b[38;5;28mself\u001b[39m._service_model.service_id.hyphenize()\n",
      "\u001b[36mFile \u001b[39m\u001b[32mc:\\Users\\Usuario\\Desktop\\parservicios\\bedrock-agent-par-servicios\\venv\\Lib\\site-packages\\botocore\\client.py:1082\u001b[39m, in \u001b[36mBaseClient._convert_to_request_dict\u001b[39m\u001b[34m(self, api_params, operation_model, endpoint_url, context, headers, set_user_agent_header)\u001b[39m\n\u001b[32m   1073\u001b[39m \u001b[38;5;28;01mdef\u001b[39;00m\u001b[38;5;250m \u001b[39m\u001b[34m_convert_to_request_dict\u001b[39m(\n\u001b[32m   1074\u001b[39m     \u001b[38;5;28mself\u001b[39m,\n\u001b[32m   1075\u001b[39m     api_params,\n\u001b[32m   (...)\u001b[39m\u001b[32m   1080\u001b[39m     set_user_agent_header=\u001b[38;5;28;01mTrue\u001b[39;00m,\n\u001b[32m   1081\u001b[39m ):\n\u001b[32m-> \u001b[39m\u001b[32m1082\u001b[39m     request_dict = \u001b[38;5;28;43mself\u001b[39;49m\u001b[43m.\u001b[49m\u001b[43m_serializer\u001b[49m\u001b[43m.\u001b[49m\u001b[43mserialize_to_request\u001b[49m\u001b[43m(\u001b[49m\n\u001b[32m   1083\u001b[39m \u001b[43m        \u001b[49m\u001b[43mapi_params\u001b[49m\u001b[43m,\u001b[49m\u001b[43m \u001b[49m\u001b[43moperation_model\u001b[49m\n\u001b[32m   1084\u001b[39m \u001b[43m    \u001b[49m\u001b[43m)\u001b[49m\n\u001b[32m   1085\u001b[39m     \u001b[38;5;28;01mif\u001b[39;00m \u001b[38;5;129;01mnot\u001b[39;00m \u001b[38;5;28mself\u001b[39m._client_config.inject_host_prefix:\n\u001b[32m   1086\u001b[39m         request_dict.pop(\u001b[33m'\u001b[39m\u001b[33mhost_prefix\u001b[39m\u001b[33m'\u001b[39m, \u001b[38;5;28;01mNone\u001b[39;00m)\n",
      "\u001b[36mFile \u001b[39m\u001b[32mc:\\Users\\Usuario\\Desktop\\parservicios\\bedrock-agent-par-servicios\\venv\\Lib\\site-packages\\botocore\\validate.py:381\u001b[39m, in \u001b[36mParamValidationDecorator.serialize_to_request\u001b[39m\u001b[34m(self, parameters, operation_model)\u001b[39m\n\u001b[32m    377\u001b[39m     report = \u001b[38;5;28mself\u001b[39m._param_validator.validate(\n\u001b[32m    378\u001b[39m         parameters, operation_model.input_shape\n\u001b[32m    379\u001b[39m     )\n\u001b[32m    380\u001b[39m     \u001b[38;5;28;01mif\u001b[39;00m report.has_errors():\n\u001b[32m--> \u001b[39m\u001b[32m381\u001b[39m         \u001b[38;5;28;01mraise\u001b[39;00m ParamValidationError(report=report.generate_report())\n\u001b[32m    382\u001b[39m \u001b[38;5;28;01mreturn\u001b[39;00m \u001b[38;5;28mself\u001b[39m._serializer.serialize_to_request(\n\u001b[32m    383\u001b[39m     parameters, operation_model\n\u001b[32m    384\u001b[39m )\n",
      "\u001b[31mParamValidationError\u001b[39m: Parameter validation failed:\nUnknown parameter in messages[0].content[0].document: \"citations\", must be one of: format, name, source"
     ]
    }
   ],
   "source": [
    "response = bedrock_client.converse(\n",
    "    modelId=\"us.anthropic.claude-sonnet-4-20250514-v1:0\",\n",
    "    messages=messages,\n",
    "    inferenceConfig={\n",
    "        \"maxTokens\": 500,\n",
    "        \"temperature\": 0.5\n",
    "    }\n",
    ")"
   ]
  },
  {
   "cell_type": "code",
   "execution_count": 73,
   "id": "e284145d",
   "metadata": {},
   "outputs": [
    {
     "ename": "ParamValidationError",
     "evalue": "Parameter validation failed:\nUnknown parameter in messages[0].content[0].document: \"citations\", must be one of: format, name, source",
     "output_type": "error",
     "traceback": [
      "\u001b[31m---------------------------------------------------------------------------\u001b[39m",
      "\u001b[31mParamValidationError\u001b[39m                      Traceback (most recent call last)",
      "\u001b[36mCell\u001b[39m\u001b[36m \u001b[39m\u001b[32mIn[73]\u001b[39m\u001b[32m, line 1\u001b[39m\n\u001b[32m----> \u001b[39m\u001b[32m1\u001b[39m response = \u001b[43mclient\u001b[49m\u001b[43m.\u001b[49m\u001b[43mconverse\u001b[49m\u001b[43m(\u001b[49m\n\u001b[32m      2\u001b[39m \u001b[43m    \u001b[49m\u001b[43mmodelId\u001b[49m\u001b[43m=\u001b[49m\u001b[33;43m\"\u001b[39;49m\u001b[33;43mus.anthropic.claude-sonnet-4-20250514-v1:0\u001b[39;49m\u001b[33;43m\"\u001b[39;49m\u001b[43m,\u001b[49m\n\u001b[32m      3\u001b[39m \u001b[43m    \u001b[49m\u001b[43mmessages\u001b[49m\u001b[43m=\u001b[49m\u001b[43mmessages\u001b[49m\u001b[43m,\u001b[49m\n\u001b[32m      4\u001b[39m \u001b[43m    \u001b[49m\u001b[43minferenceConfig\u001b[49m\u001b[43m=\u001b[49m\u001b[43m{\u001b[49m\n\u001b[32m      5\u001b[39m \u001b[43m        \u001b[49m\u001b[33;43m\"\u001b[39;49m\u001b[33;43mmaxTokens\u001b[39;49m\u001b[33;43m\"\u001b[39;49m\u001b[43m:\u001b[49m\u001b[43m \u001b[49m\u001b[32;43m500\u001b[39;49m\u001b[43m,\u001b[49m\n\u001b[32m      6\u001b[39m \u001b[43m        \u001b[49m\u001b[33;43m\"\u001b[39;49m\u001b[33;43mtemperature\u001b[39;49m\u001b[33;43m\"\u001b[39;49m\u001b[43m:\u001b[49m\u001b[43m \u001b[49m\u001b[32;43m0.5\u001b[39;49m\n\u001b[32m      7\u001b[39m \u001b[43m    \u001b[49m\u001b[43m}\u001b[49m\n\u001b[32m      8\u001b[39m \u001b[43m)\u001b[49m\n",
      "\u001b[36mFile \u001b[39m\u001b[32mc:\\Users\\Usuario\\Desktop\\parservicios\\bedrock-agent-par-servicios\\venv\\Lib\\site-packages\\botocore\\client.py:595\u001b[39m, in \u001b[36mClientCreator._create_api_method.<locals>._api_call\u001b[39m\u001b[34m(self, *args, **kwargs)\u001b[39m\n\u001b[32m    591\u001b[39m     \u001b[38;5;28;01mraise\u001b[39;00m \u001b[38;5;167;01mTypeError\u001b[39;00m(\n\u001b[32m    592\u001b[39m         \u001b[33mf\u001b[39m\u001b[33m\"\u001b[39m\u001b[38;5;132;01m{\u001b[39;00mpy_operation_name\u001b[38;5;132;01m}\u001b[39;00m\u001b[33m() only accepts keyword arguments.\u001b[39m\u001b[33m\"\u001b[39m\n\u001b[32m    593\u001b[39m     )\n\u001b[32m    594\u001b[39m \u001b[38;5;66;03m# The \"self\" in this scope is referring to the BaseClient.\u001b[39;00m\n\u001b[32m--> \u001b[39m\u001b[32m595\u001b[39m \u001b[38;5;28;01mreturn\u001b[39;00m \u001b[38;5;28;43mself\u001b[39;49m\u001b[43m.\u001b[49m\u001b[43m_make_api_call\u001b[49m\u001b[43m(\u001b[49m\u001b[43moperation_name\u001b[49m\u001b[43m,\u001b[49m\u001b[43m \u001b[49m\u001b[43mkwargs\u001b[49m\u001b[43m)\u001b[49m\n",
      "\u001b[36mFile \u001b[39m\u001b[32mc:\\Users\\Usuario\\Desktop\\parservicios\\bedrock-agent-par-servicios\\venv\\Lib\\site-packages\\botocore\\context.py:123\u001b[39m, in \u001b[36mwith_current_context.<locals>.decorator.<locals>.wrapper\u001b[39m\u001b[34m(*args, **kwargs)\u001b[39m\n\u001b[32m    121\u001b[39m \u001b[38;5;28;01mif\u001b[39;00m hook:\n\u001b[32m    122\u001b[39m     hook()\n\u001b[32m--> \u001b[39m\u001b[32m123\u001b[39m \u001b[38;5;28;01mreturn\u001b[39;00m \u001b[43mfunc\u001b[49m\u001b[43m(\u001b[49m\u001b[43m*\u001b[49m\u001b[43margs\u001b[49m\u001b[43m,\u001b[49m\u001b[43m \u001b[49m\u001b[43m*\u001b[49m\u001b[43m*\u001b[49m\u001b[43mkwargs\u001b[49m\u001b[43m)\u001b[49m\n",
      "\u001b[36mFile \u001b[39m\u001b[32mc:\\Users\\Usuario\\Desktop\\parservicios\\bedrock-agent-par-servicios\\venv\\Lib\\site-packages\\botocore\\client.py:1015\u001b[39m, in \u001b[36mBaseClient._make_api_call\u001b[39m\u001b[34m(self, operation_name, api_params)\u001b[39m\n\u001b[32m   1011\u001b[39m \u001b[38;5;28;01mif\u001b[39;00m properties:\n\u001b[32m   1012\u001b[39m     \u001b[38;5;66;03m# Pass arbitrary endpoint info with the Request\u001b[39;00m\n\u001b[32m   1013\u001b[39m     \u001b[38;5;66;03m# for use during construction.\u001b[39;00m\n\u001b[32m   1014\u001b[39m     request_context[\u001b[33m'\u001b[39m\u001b[33mendpoint_properties\u001b[39m\u001b[33m'\u001b[39m] = properties\n\u001b[32m-> \u001b[39m\u001b[32m1015\u001b[39m request_dict = \u001b[38;5;28;43mself\u001b[39;49m\u001b[43m.\u001b[49m\u001b[43m_convert_to_request_dict\u001b[49m\u001b[43m(\u001b[49m\n\u001b[32m   1016\u001b[39m \u001b[43m    \u001b[49m\u001b[43mapi_params\u001b[49m\u001b[43m=\u001b[49m\u001b[43mapi_params\u001b[49m\u001b[43m,\u001b[49m\n\u001b[32m   1017\u001b[39m \u001b[43m    \u001b[49m\u001b[43moperation_model\u001b[49m\u001b[43m=\u001b[49m\u001b[43moperation_model\u001b[49m\u001b[43m,\u001b[49m\n\u001b[32m   1018\u001b[39m \u001b[43m    \u001b[49m\u001b[43mendpoint_url\u001b[49m\u001b[43m=\u001b[49m\u001b[43mendpoint_url\u001b[49m\u001b[43m,\u001b[49m\n\u001b[32m   1019\u001b[39m \u001b[43m    \u001b[49m\u001b[43mcontext\u001b[49m\u001b[43m=\u001b[49m\u001b[43mrequest_context\u001b[49m\u001b[43m,\u001b[49m\n\u001b[32m   1020\u001b[39m \u001b[43m    \u001b[49m\u001b[43mheaders\u001b[49m\u001b[43m=\u001b[49m\u001b[43madditional_headers\u001b[49m\u001b[43m,\u001b[49m\n\u001b[32m   1021\u001b[39m \u001b[43m\u001b[49m\u001b[43m)\u001b[49m\n\u001b[32m   1022\u001b[39m resolve_checksum_context(request_dict, operation_model, api_params)\n\u001b[32m   1024\u001b[39m service_id = \u001b[38;5;28mself\u001b[39m._service_model.service_id.hyphenize()\n",
      "\u001b[36mFile \u001b[39m\u001b[32mc:\\Users\\Usuario\\Desktop\\parservicios\\bedrock-agent-par-servicios\\venv\\Lib\\site-packages\\botocore\\client.py:1082\u001b[39m, in \u001b[36mBaseClient._convert_to_request_dict\u001b[39m\u001b[34m(self, api_params, operation_model, endpoint_url, context, headers, set_user_agent_header)\u001b[39m\n\u001b[32m   1073\u001b[39m \u001b[38;5;28;01mdef\u001b[39;00m\u001b[38;5;250m \u001b[39m\u001b[34m_convert_to_request_dict\u001b[39m(\n\u001b[32m   1074\u001b[39m     \u001b[38;5;28mself\u001b[39m,\n\u001b[32m   1075\u001b[39m     api_params,\n\u001b[32m   (...)\u001b[39m\u001b[32m   1080\u001b[39m     set_user_agent_header=\u001b[38;5;28;01mTrue\u001b[39;00m,\n\u001b[32m   1081\u001b[39m ):\n\u001b[32m-> \u001b[39m\u001b[32m1082\u001b[39m     request_dict = \u001b[38;5;28;43mself\u001b[39;49m\u001b[43m.\u001b[49m\u001b[43m_serializer\u001b[49m\u001b[43m.\u001b[49m\u001b[43mserialize_to_request\u001b[49m\u001b[43m(\u001b[49m\n\u001b[32m   1083\u001b[39m \u001b[43m        \u001b[49m\u001b[43mapi_params\u001b[49m\u001b[43m,\u001b[49m\u001b[43m \u001b[49m\u001b[43moperation_model\u001b[49m\n\u001b[32m   1084\u001b[39m \u001b[43m    \u001b[49m\u001b[43m)\u001b[49m\n\u001b[32m   1085\u001b[39m     \u001b[38;5;28;01mif\u001b[39;00m \u001b[38;5;129;01mnot\u001b[39;00m \u001b[38;5;28mself\u001b[39m._client_config.inject_host_prefix:\n\u001b[32m   1086\u001b[39m         request_dict.pop(\u001b[33m'\u001b[39m\u001b[33mhost_prefix\u001b[39m\u001b[33m'\u001b[39m, \u001b[38;5;28;01mNone\u001b[39;00m)\n",
      "\u001b[36mFile \u001b[39m\u001b[32mc:\\Users\\Usuario\\Desktop\\parservicios\\bedrock-agent-par-servicios\\venv\\Lib\\site-packages\\botocore\\validate.py:381\u001b[39m, in \u001b[36mParamValidationDecorator.serialize_to_request\u001b[39m\u001b[34m(self, parameters, operation_model)\u001b[39m\n\u001b[32m    377\u001b[39m     report = \u001b[38;5;28mself\u001b[39m._param_validator.validate(\n\u001b[32m    378\u001b[39m         parameters, operation_model.input_shape\n\u001b[32m    379\u001b[39m     )\n\u001b[32m    380\u001b[39m     \u001b[38;5;28;01mif\u001b[39;00m report.has_errors():\n\u001b[32m--> \u001b[39m\u001b[32m381\u001b[39m         \u001b[38;5;28;01mraise\u001b[39;00m ParamValidationError(report=report.generate_report())\n\u001b[32m    382\u001b[39m \u001b[38;5;28;01mreturn\u001b[39;00m \u001b[38;5;28mself\u001b[39m._serializer.serialize_to_request(\n\u001b[32m    383\u001b[39m     parameters, operation_model\n\u001b[32m    384\u001b[39m )\n",
      "\u001b[31mParamValidationError\u001b[39m: Parameter validation failed:\nUnknown parameter in messages[0].content[0].document: \"citations\", must be one of: format, name, source"
     ]
    }
   ],
   "source": [
    "response = client.converse(\n",
    "    modelId=\"us.anthropic.claude-sonnet-4-20250514-v1:0\",\n",
    "    messages=messages,\n",
    "    inferenceConfig={\n",
    "        \"maxTokens\": 500,\n",
    "        \"temperature\": 0.5\n",
    "    }\n",
    ")"
   ]
  },
  {
   "cell_type": "code",
   "execution_count": 51,
   "id": "8e15ec43",
   "metadata": {},
   "outputs": [],
   "source": [
    "messages = [\n",
    "\t{\n",
    "\t\t'role': 'user', \n",
    "\t\t'content': [\n",
    "\t\t\t{\n",
    "\t\t\t\t\"document\": {\n",
    "        \t\t\t\"name\": 'documento',\n",
    "        \t\t\t\"format\": \"pdf\",\n",
    "        \t\t\t\"source\": {\"bytes\": base64_data},\n",
    "        \t\t\t\"citations\": {            \n",
    "           \t\t\t \"enabled\": True\n",
    "       \t\t\t\t\t\t\t }\n",
    "    \t\t\t\t},\n",
    "\t\t\t\t'text': \"Analyze the pdf\"\n",
    "\t\t\t}\n",
    "\t\t]\n",
    "\t}\n",
    "]"
   ]
  },
  {
   "cell_type": "code",
   "execution_count": 64,
   "id": "85703a04",
   "metadata": {},
   "outputs": [],
   "source": [
    "messages = [\n",
    "    {\n",
    "        \"role\": \"user\",\n",
    "        \"content\": [\n",
    "            {\"text\": \"Analyze the pdf\"},\n",
    "            {\n",
    "\t\t\t\t\"document\": {\n",
    "        \t\t\t\"name\": 'documento',\n",
    "        \t\t\t\"format\": \"pdf\",\n",
    "        \t\t\t\"source\": {\"bytes\": base64_data},\n",
    "        \t\t\t\"citations\": {            \n",
    "           \t\t\t \"enabled\": True\n",
    "       \t\t\t\t\t\t\t },\n",
    "    \t\t\t\t}\n",
    "            },\n",
    "        ],\n",
    "    }\n",
    "]"
   ]
  },
  {
   "cell_type": "code",
   "execution_count": 65,
   "id": "055444ae",
   "metadata": {},
   "outputs": [
    {
     "ename": "ParamValidationError",
     "evalue": "Parameter validation failed:\nUnknown parameter in messages[0].content[1].document: \"citations\", must be one of: format, name, source",
     "output_type": "error",
     "traceback": [
      "\u001b[31m---------------------------------------------------------------------------\u001b[39m",
      "\u001b[31mParamValidationError\u001b[39m                      Traceback (most recent call last)",
      "\u001b[36mCell\u001b[39m\u001b[36m \u001b[39m\u001b[32mIn[65]\u001b[39m\u001b[32m, line 1\u001b[39m\n\u001b[32m----> \u001b[39m\u001b[32m1\u001b[39m response = \u001b[43mclient\u001b[49m\u001b[43m.\u001b[49m\u001b[43mconverse\u001b[49m\u001b[43m(\u001b[49m\n\u001b[32m      2\u001b[39m \u001b[43m\t\u001b[49m\u001b[43mmodelId\u001b[49m\u001b[43m=\u001b[49m\u001b[43mmodel_id\u001b[49m\u001b[43m,\u001b[49m\n\u001b[32m      3\u001b[39m \u001b[43m\t\u001b[49m\u001b[43mmessages\u001b[49m\u001b[43m=\u001b[49m\u001b[43mmessages\u001b[49m\u001b[43m,\u001b[49m\n\u001b[32m      4\u001b[39m \u001b[43m\t\u001b[49m\u001b[43msystem\u001b[49m\u001b[43m=\u001b[49m\u001b[43msystem_message\u001b[49m\u001b[43m,\u001b[49m\n\u001b[32m      5\u001b[39m \u001b[43m\t\u001b[49m\u001b[43minferenceConfig\u001b[49m\u001b[43m=\u001b[49m\u001b[43m{\u001b[49m\n\u001b[32m      6\u001b[39m \u001b[43m\t\t\u001b[49m\u001b[33;43m\"\u001b[39;49m\u001b[33;43mmaxTokens\u001b[39;49m\u001b[33;43m\"\u001b[39;49m\u001b[43m:\u001b[49m\u001b[43m \u001b[49m\u001b[32;43m8192\u001b[39;49m\u001b[43m,\u001b[49m\n\u001b[32m      7\u001b[39m \u001b[43m\t\t\u001b[49m\u001b[33;43m\"\u001b[39;49m\u001b[33;43mtemperature\u001b[39;49m\u001b[33;43m\"\u001b[39;49m\u001b[43m:\u001b[49m\u001b[43m \u001b[49m\u001b[32;43m0.7\u001b[39;49m\u001b[43m,\u001b[49m\n\u001b[32m      8\u001b[39m \u001b[43m\t\t\u001b[49m\u001b[33;43m\"\u001b[39;49m\u001b[33;43mtopP\u001b[39;49m\u001b[33;43m\"\u001b[39;49m\u001b[43m:\u001b[49m\u001b[43m \u001b[49m\u001b[32;43m1\u001b[39;49m\u001b[43m,\u001b[49m\n\u001b[32m      9\u001b[39m \u001b[43m\t\u001b[49m\u001b[43m}\u001b[49m\n\u001b[32m     10\u001b[39m \u001b[43m)\u001b[49m\n",
      "\u001b[36mFile \u001b[39m\u001b[32mc:\\Users\\Usuario\\Desktop\\parservicios\\bedrock-agent-par-servicios\\venv\\Lib\\site-packages\\botocore\\client.py:595\u001b[39m, in \u001b[36mClientCreator._create_api_method.<locals>._api_call\u001b[39m\u001b[34m(self, *args, **kwargs)\u001b[39m\n\u001b[32m    591\u001b[39m     \u001b[38;5;28;01mraise\u001b[39;00m \u001b[38;5;167;01mTypeError\u001b[39;00m(\n\u001b[32m    592\u001b[39m         \u001b[33mf\u001b[39m\u001b[33m\"\u001b[39m\u001b[38;5;132;01m{\u001b[39;00mpy_operation_name\u001b[38;5;132;01m}\u001b[39;00m\u001b[33m() only accepts keyword arguments.\u001b[39m\u001b[33m\"\u001b[39m\n\u001b[32m    593\u001b[39m     )\n\u001b[32m    594\u001b[39m \u001b[38;5;66;03m# The \"self\" in this scope is referring to the BaseClient.\u001b[39;00m\n\u001b[32m--> \u001b[39m\u001b[32m595\u001b[39m \u001b[38;5;28;01mreturn\u001b[39;00m \u001b[38;5;28;43mself\u001b[39;49m\u001b[43m.\u001b[49m\u001b[43m_make_api_call\u001b[49m\u001b[43m(\u001b[49m\u001b[43moperation_name\u001b[49m\u001b[43m,\u001b[49m\u001b[43m \u001b[49m\u001b[43mkwargs\u001b[49m\u001b[43m)\u001b[49m\n",
      "\u001b[36mFile \u001b[39m\u001b[32mc:\\Users\\Usuario\\Desktop\\parservicios\\bedrock-agent-par-servicios\\venv\\Lib\\site-packages\\botocore\\context.py:123\u001b[39m, in \u001b[36mwith_current_context.<locals>.decorator.<locals>.wrapper\u001b[39m\u001b[34m(*args, **kwargs)\u001b[39m\n\u001b[32m    121\u001b[39m \u001b[38;5;28;01mif\u001b[39;00m hook:\n\u001b[32m    122\u001b[39m     hook()\n\u001b[32m--> \u001b[39m\u001b[32m123\u001b[39m \u001b[38;5;28;01mreturn\u001b[39;00m \u001b[43mfunc\u001b[49m\u001b[43m(\u001b[49m\u001b[43m*\u001b[49m\u001b[43margs\u001b[49m\u001b[43m,\u001b[49m\u001b[43m \u001b[49m\u001b[43m*\u001b[49m\u001b[43m*\u001b[49m\u001b[43mkwargs\u001b[49m\u001b[43m)\u001b[49m\n",
      "\u001b[36mFile \u001b[39m\u001b[32mc:\\Users\\Usuario\\Desktop\\parservicios\\bedrock-agent-par-servicios\\venv\\Lib\\site-packages\\botocore\\client.py:1015\u001b[39m, in \u001b[36mBaseClient._make_api_call\u001b[39m\u001b[34m(self, operation_name, api_params)\u001b[39m\n\u001b[32m   1011\u001b[39m \u001b[38;5;28;01mif\u001b[39;00m properties:\n\u001b[32m   1012\u001b[39m     \u001b[38;5;66;03m# Pass arbitrary endpoint info with the Request\u001b[39;00m\n\u001b[32m   1013\u001b[39m     \u001b[38;5;66;03m# for use during construction.\u001b[39;00m\n\u001b[32m   1014\u001b[39m     request_context[\u001b[33m'\u001b[39m\u001b[33mendpoint_properties\u001b[39m\u001b[33m'\u001b[39m] = properties\n\u001b[32m-> \u001b[39m\u001b[32m1015\u001b[39m request_dict = \u001b[38;5;28;43mself\u001b[39;49m\u001b[43m.\u001b[49m\u001b[43m_convert_to_request_dict\u001b[49m\u001b[43m(\u001b[49m\n\u001b[32m   1016\u001b[39m \u001b[43m    \u001b[49m\u001b[43mapi_params\u001b[49m\u001b[43m=\u001b[49m\u001b[43mapi_params\u001b[49m\u001b[43m,\u001b[49m\n\u001b[32m   1017\u001b[39m \u001b[43m    \u001b[49m\u001b[43moperation_model\u001b[49m\u001b[43m=\u001b[49m\u001b[43moperation_model\u001b[49m\u001b[43m,\u001b[49m\n\u001b[32m   1018\u001b[39m \u001b[43m    \u001b[49m\u001b[43mendpoint_url\u001b[49m\u001b[43m=\u001b[49m\u001b[43mendpoint_url\u001b[49m\u001b[43m,\u001b[49m\n\u001b[32m   1019\u001b[39m \u001b[43m    \u001b[49m\u001b[43mcontext\u001b[49m\u001b[43m=\u001b[49m\u001b[43mrequest_context\u001b[49m\u001b[43m,\u001b[49m\n\u001b[32m   1020\u001b[39m \u001b[43m    \u001b[49m\u001b[43mheaders\u001b[49m\u001b[43m=\u001b[49m\u001b[43madditional_headers\u001b[49m\u001b[43m,\u001b[49m\n\u001b[32m   1021\u001b[39m \u001b[43m\u001b[49m\u001b[43m)\u001b[49m\n\u001b[32m   1022\u001b[39m resolve_checksum_context(request_dict, operation_model, api_params)\n\u001b[32m   1024\u001b[39m service_id = \u001b[38;5;28mself\u001b[39m._service_model.service_id.hyphenize()\n",
      "\u001b[36mFile \u001b[39m\u001b[32mc:\\Users\\Usuario\\Desktop\\parservicios\\bedrock-agent-par-servicios\\venv\\Lib\\site-packages\\botocore\\client.py:1082\u001b[39m, in \u001b[36mBaseClient._convert_to_request_dict\u001b[39m\u001b[34m(self, api_params, operation_model, endpoint_url, context, headers, set_user_agent_header)\u001b[39m\n\u001b[32m   1073\u001b[39m \u001b[38;5;28;01mdef\u001b[39;00m\u001b[38;5;250m \u001b[39m\u001b[34m_convert_to_request_dict\u001b[39m(\n\u001b[32m   1074\u001b[39m     \u001b[38;5;28mself\u001b[39m,\n\u001b[32m   1075\u001b[39m     api_params,\n\u001b[32m   (...)\u001b[39m\u001b[32m   1080\u001b[39m     set_user_agent_header=\u001b[38;5;28;01mTrue\u001b[39;00m,\n\u001b[32m   1081\u001b[39m ):\n\u001b[32m-> \u001b[39m\u001b[32m1082\u001b[39m     request_dict = \u001b[38;5;28;43mself\u001b[39;49m\u001b[43m.\u001b[49m\u001b[43m_serializer\u001b[49m\u001b[43m.\u001b[49m\u001b[43mserialize_to_request\u001b[49m\u001b[43m(\u001b[49m\n\u001b[32m   1083\u001b[39m \u001b[43m        \u001b[49m\u001b[43mapi_params\u001b[49m\u001b[43m,\u001b[49m\u001b[43m \u001b[49m\u001b[43moperation_model\u001b[49m\n\u001b[32m   1084\u001b[39m \u001b[43m    \u001b[49m\u001b[43m)\u001b[49m\n\u001b[32m   1085\u001b[39m     \u001b[38;5;28;01mif\u001b[39;00m \u001b[38;5;129;01mnot\u001b[39;00m \u001b[38;5;28mself\u001b[39m._client_config.inject_host_prefix:\n\u001b[32m   1086\u001b[39m         request_dict.pop(\u001b[33m'\u001b[39m\u001b[33mhost_prefix\u001b[39m\u001b[33m'\u001b[39m, \u001b[38;5;28;01mNone\u001b[39;00m)\n",
      "\u001b[36mFile \u001b[39m\u001b[32mc:\\Users\\Usuario\\Desktop\\parservicios\\bedrock-agent-par-servicios\\venv\\Lib\\site-packages\\botocore\\validate.py:381\u001b[39m, in \u001b[36mParamValidationDecorator.serialize_to_request\u001b[39m\u001b[34m(self, parameters, operation_model)\u001b[39m\n\u001b[32m    377\u001b[39m     report = \u001b[38;5;28mself\u001b[39m._param_validator.validate(\n\u001b[32m    378\u001b[39m         parameters, operation_model.input_shape\n\u001b[32m    379\u001b[39m     )\n\u001b[32m    380\u001b[39m     \u001b[38;5;28;01mif\u001b[39;00m report.has_errors():\n\u001b[32m--> \u001b[39m\u001b[32m381\u001b[39m         \u001b[38;5;28;01mraise\u001b[39;00m ParamValidationError(report=report.generate_report())\n\u001b[32m    382\u001b[39m \u001b[38;5;28;01mreturn\u001b[39;00m \u001b[38;5;28mself\u001b[39m._serializer.serialize_to_request(\n\u001b[32m    383\u001b[39m     parameters, operation_model\n\u001b[32m    384\u001b[39m )\n",
      "\u001b[31mParamValidationError\u001b[39m: Parameter validation failed:\nUnknown parameter in messages[0].content[1].document: \"citations\", must be one of: format, name, source"
     ]
    }
   ],
   "source": [
    "response = client.converse(\n",
    "\tmodelId=model_id,\n",
    "\tmessages=messages,\n",
    "\tsystem=system_message,\n",
    "\tinferenceConfig={\n",
    "\t\t\"maxTokens\": 8192,\n",
    "\t\t\"temperature\": 0.7,\n",
    "\t\t\"topP\": 1,\n",
    "\t}\n",
    ")"
   ]
  },
  {
   "cell_type": "code",
   "execution_count": 61,
   "id": "a9ecb593",
   "metadata": {},
   "outputs": [
    {
     "name": "stdout",
     "output_type": "stream",
     "text": [
      "{\n",
      "    \"ResponseMetadata\": {\n",
      "        \"RequestId\": \"4ec5a1bd-2faa-49f2-ad48-226a777aa560\",\n",
      "        \"HTTPStatusCode\": 200,\n",
      "        \"HTTPHeaders\": {\n",
      "            \"date\": \"Sun, 24 Aug 2025 05:03:28 GMT\",\n",
      "            \"content-type\": \"application/json\",\n",
      "            \"content-length\": \"1131\",\n",
      "            \"connection\": \"keep-alive\",\n",
      "            \"x-amzn-requestid\": \"4ec5a1bd-2faa-49f2-ad48-226a777aa560\"\n",
      "        },\n",
      "        \"RetryAttempts\": 0\n",
      "    },\n",
      "    \"output\": {\n",
      "        \"message\": {\n",
      "            \"role\": \"assistant\",\n",
      "            \"content\": [\n",
      "                {\n",
      "                    \"text\": \"I can see that you've referenced a PDF document called \\\"documento.pdf\\\", but the document content appears to be empty in what was provided to me. The document section shows:\\n\\n```\\n<document index=\\\"1\\\">\\n<source>documento.pdf</source>\\n<document_content></document_content>\\n</document>\\n```\\n\\nThere's no actual content between the `<document_content>` tags for me to analyze.\\n\\nTo help you analyze the PDF, I would need:\\n1. The actual text content from the PDF to be extracted and included\\n2. Or a clear description of what specific aspects you'd like me to analyze\\n\\nCould you please:\\n- Share the text content from the PDF, or\\n- Let me know what specific type of analysis you're looking for (summary, key points, data extraction, etc.)\\n\\nOnce I have the actual document content, I'll be happy to provide a thorough analysis!\"\n",
      "                }\n",
      "            ]\n",
      "        }\n",
      "    },\n",
      "    \"stopReason\": \"end_turn\",\n",
      "    \"usage\": {\n",
      "        \"inputTokens\": 60,\n",
      "        \"outputTokens\": 200,\n",
      "        \"totalTokens\": 260,\n",
      "        \"cacheReadInputTokens\": 0,\n",
      "        \"cacheWriteInputTokens\": 0\n",
      "    },\n",
      "    \"metrics\": {\n",
      "        \"latencyMs\": 6832\n",
      "    }\n",
      "}\n"
     ]
    }
   ],
   "source": [
    "print(json.dumps(response, indent=4))"
   ]
  },
  {
   "cell_type": "code",
   "execution_count": 62,
   "id": "c6cda73f",
   "metadata": {},
   "outputs": [],
   "source": [
    "response = client.converse(\n",
    "\tmodelId=model_id,\n",
    "\tmessages=messages,\n",
    "\tsystem=system_message,\n",
    "\tinferenceConfig={\n",
    "\t\t\"maxTokens\": 8192,\n",
    "\t\t\"temperature\": 1, # must be 1\n",
    "\t\t #\"topP\": 1, # must be unset\n",
    "\t},\n",
    "\tadditionalModelRequestFields={\n",
    "\t\t'thinking': {\n",
    "\t\t\t\"type\": \"enabled\",\n",
    "\t\t\t\"budget_tokens\": 2000\n",
    "\t\t},\n",
    "\t}\n",
    ")"
   ]
  },
  {
   "cell_type": "code",
   "execution_count": 57,
   "id": "7e749e39",
   "metadata": {},
   "outputs": [],
   "source": [
    "response = client.converse(\n",
    "\tmodelId=model_id,\n",
    "\tmessages=messages,\n",
    "\tsystem=system_message,\n",
    "\tinferenceConfig={\n",
    "\t\t\"maxTokens\": 8000,\n",
    "\t\t\"temperature\": 1, # must be 1\n",
    "\t\t\"topP\": 0.95, # must be unset\n",
    "\t},\n",
    "\tadditionalModelRequestFields={\n",
    "\t\t'thinking': {\n",
    "\t\t\t\"type\": \"enabled\",\n",
    "\t\t\t\"budget_tokens\": 2000\n",
    "\t\t}\n",
    "\t}\n",
    ")"
   ]
  },
  {
   "cell_type": "code",
   "execution_count": 63,
   "id": "96616756",
   "metadata": {},
   "outputs": [
    {
     "name": "stdout",
     "output_type": "stream",
     "text": [
      "{\n",
      "    \"ResponseMetadata\": {\n",
      "        \"RequestId\": \"728f2cdb-4b47-4176-9909-5ed69771cc22\",\n",
      "        \"HTTPStatusCode\": 200,\n",
      "        \"HTTPHeaders\": {\n",
      "            \"date\": \"Sun, 24 Aug 2025 05:04:02 GMT\",\n",
      "            \"content-type\": \"application/json\",\n",
      "            \"content-length\": \"2744\",\n",
      "            \"connection\": \"keep-alive\",\n",
      "            \"x-amzn-requestid\": \"728f2cdb-4b47-4176-9909-5ed69771cc22\"\n",
      "        },\n",
      "        \"RetryAttempts\": 0\n",
      "    },\n",
      "    \"output\": {\n",
      "        \"message\": {\n",
      "            \"role\": \"assistant\",\n",
      "            \"content\": [\n",
      "                {\n",
      "                    \"reasoningContent\": {\n",
      "                        \"reasoningText\": {\n",
      "                            \"text\": \"I can see that there's a document reference with the filename \\\"documento.pdf\\\" but the document_content field is empty. This means I don't have access to the actual content of the PDF file to analyze.\\n\\nI should let the user know that I cannot see the content of the PDF and ask them to either:\\n1. Provide the PDF content in a different way\\n2. Share the text content directly\\n3. Upload the file again if there was an issue\\n\\nI should be helpful and explain what I would be able to do if I had access to the content.\",\n",
      "                            \"signature\": \"EqsFCkgIBhABGAIqQFqPpcA0cj8gnAasyLt06vkT+3MhkEmYXGOhwUlUQ+Q1hsbS6A0QFjSr8yK7NUqD7SKZJUx42JTR12+RAGpI2XoSDG1tSPADUCGOsD1vVxoM5Q1LMZURhvhvAlK3IjCNlYpgV2UOAQGop6/W/+tVyg0Ml9ZHJhR0vpjKRfCvn5yxOckG8KvkOhxUZhrITLEqkASOY4+7uCXI5HJXoGBRWR45m5yVlXqF10qzXctvk5o5NCagq8RY0PMvRiDSt3z3jLWUe4BH1ww5+lKu5LMW8ImsfpTcptusjKvTGlvJt/dfhBkOZ/J37tP/SeXM5hjZ23E6BjIQd3P7fV5oGpxbL59Ddx1p/6ObahhOrzW7MQ4DlIF5AJtMGQQ/wEqJyuf1auXrczN7XIGPccVyr1YValW4qZ6OVFTU8pdCGUZwW9ug4hrvy36WWIK9jczkq7+a5HJ9EM+v/FFrs/chHPy7pl164d3CbaIBTxrwn7uGHjxHjXa27sAHABozWpgvV8yJ2LATiYajDXrVsrWYj6UEaDXi//vHFw+ocm0E8VVHqUvg40+fz3AfDE61CdOsMK1w5u+s5SgkcAbor6kJ4WXlmjY9j3LfB9wWQpams6ODaaEAp7bSklhCD+CI+gWOLkiVaVApMOeRGG9OdRiu7F9paWXIIG0PkUQQuxaZn1RPxP80+qbce+T/OIwoewQktNan00/uGtdEpzDLJeyhmEzKX4SAzNBQ5Cb2OEQ44CNxaesOFlQh3xEp3NcUXVZ9BAqhysPaEqWDe6UqUSqD5DTZQuNbAzxTwGK0n8v3whtxmCwMbtTW1kXtkg78YuVqyjvFxAXM/aUOfzMLw85rsHOYl1HYNJubq3JfJnQkzfFh+L8KKnU9c8+/oTL7Soel12McMLEYAQ==\"\n",
      "                        }\n",
      "                    }\n",
      "                },\n",
      "                {\n",
      "                    \"text\": \"I can see that you've referenced a PDF file called \\\"documento.pdf\\\", but I'm not able to access its content - the document appears to be empty or there may have been an issue with the upload.\\n\\nTo analyze your PDF, I would need to be able to see its actual content. Here are a few options:\\n\\n1. **Try uploading again** - There might have been a technical issue with the file upload\\n2. **Share the text content** - You could copy and paste the text from the PDF\\n3. **Describe what you'd like analyzed** - Let me know what specific aspects you want me to focus on\\n\\nOnce I can access the content, I can help you with various types of analysis such as:\\n- Summarizing key points\\n- Extracting specific information\\n- Analyzing structure and organization\\n- Identifying themes or patterns\\n- Answering specific questions about the content\\n\\nCould you please try sharing the document content again or let me know how you'd prefer to proceed?\"\n",
      "                }\n",
      "            ]\n",
      "        }\n",
      "    },\n",
      "    \"stopReason\": \"end_turn\",\n",
      "    \"usage\": {\n",
      "        \"inputTokens\": 89,\n",
      "        \"outputTokens\": 344,\n",
      "        \"totalTokens\": 433,\n",
      "        \"cacheReadInputTokens\": 0,\n",
      "        \"cacheWriteInputTokens\": 0\n",
      "    },\n",
      "    \"metrics\": {\n",
      "        \"latencyMs\": 5692\n",
      "    }\n",
      "}\n"
     ]
    }
   ],
   "source": [
    "print(json.dumps(response, indent=4))"
   ]
  }
 ],
 "metadata": {
  "kernelspec": {
   "display_name": "venv",
   "language": "python",
   "name": "python3"
  },
  "language_info": {
   "codemirror_mode": {
    "name": "ipython",
    "version": 3
   },
   "file_extension": ".py",
   "mimetype": "text/x-python",
   "name": "python",
   "nbconvert_exporter": "python",
   "pygments_lexer": "ipython3",
   "version": "3.12.11"
  }
 },
 "nbformat": 4,
 "nbformat_minor": 5
}
